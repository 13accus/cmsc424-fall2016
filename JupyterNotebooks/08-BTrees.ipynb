{
 "cells": [
  {
   "cell_type": "code",
   "execution_count": 1,
   "metadata": {
    "collapsed": false
   },
   "outputs": [],
   "source": [
    "import math\n",
    "from disk_relations import *\n",
    "from btree import *\n",
    "from queryprocessing import *\n",
    "from create_sample_databases import *"
   ]
  },
  {
   "cell_type": "markdown",
   "metadata": {},
   "source": [
    "create_sample_databases has a function to create a database with two relations"
   ]
  },
  {
   "cell_type": "code",
   "execution_count": 2,
   "metadata": {
    "collapsed": false
   },
   "outputs": [],
   "source": [
    "# Create a sample database\n",
    "db1 = createDatabase1(\"univ\")"
   ]
  },
  {
   "cell_type": "markdown",
   "metadata": {},
   "source": [
    "### B+Trees\n",
    "We can print out the tuples and also the indexes as follows."
   ]
  },
  {
   "cell_type": "code",
   "execution_count": 3,
   "metadata": {
    "collapsed": false
   },
   "outputs": [
    {
     "name": "stdout",
     "output_type": "stream",
     "text": [
      "================================================================================\n",
      "Relation instructor contains 6 blocks\n",
      "Block No. 0, Type: RelationBlock: ('10101', 'Srinivasan', 'Comp. Sci.', '65000'), ('12121', 'Wu', 'Finance', '90000')\n",
      "Block No. 1, Type: RelationBlock: ('15151', 'Mozart', 'Music', '40000'), ('22222', 'Einstein', 'Physics', '95000')\n",
      "Block No. 2, Type: RelationBlock: ('32343', 'El Said', 'History', '60000'), ('33456', 'Gold', 'Physics', '87000')\n",
      "Block No. 3, Type: RelationBlock: ('45565', 'Katz', 'Comp. Sci.', '75000'), ('58583', 'Califieri', 'History', '62000')\n",
      "Block No. 4, Type: RelationBlock: ('76543', 'Singh', 'Finance', '80000'), ('76766', 'Crick', 'Biology', '72000')\n",
      "Block No. 5, Type: RelationBlock: ('83821', 'Brandt', 'Comp. Sci.', '92000'), ('98345', 'Kim', 'Elec. Eng.', '80000')\n"
     ]
    }
   ],
   "source": [
    "db1.getRelation(\"instructor\").printTuples()"
   ]
  },
  {
   "cell_type": "code",
   "execution_count": 4,
   "metadata": {
    "collapsed": false
   },
   "outputs": [
    {
     "name": "stdout",
     "output_type": "stream",
     "text": [
      "================================================================================\n",
      "Printing BTree Index on Relation instructor on Attribute name\n",
      "--- Level 0 (root): \n",
      "\tBlock No. 16, Type: BTree, Parent: None: {Block 11}, Mozart, {Block 15}\n",
      "--- Level 1: \n",
      "\tBlock No. 11, Type: BTree, Parent: 16: {Block 9}, Einstein, {Block 14}, Gold, {Block 12}\n",
      "\tBlock No. 15, Type: BTree, Parent: 16: {Block 13}, Srinivasan, {Block 10}\n",
      "--- Level 2: \n",
      "\tBlock No. 9, Type: BTree, Parent: 11: {Block 5, Tuple 0}, Brandt, {Block 3, Tuple 1}, Califieri, {Block 4, Tuple 1}, Crick, {Block 14}\n",
      "\tBlock No. 14, Type: BTree, Parent: 11: {Block 1, Tuple 1}, Einstein, {Block 2, Tuple 0}, El Said, {Block 12}\n",
      "\tBlock No. 12, Type: BTree, Parent: 11: {Block 2, Tuple 1}, Gold, {Block 3, Tuple 0}, Katz, {Block 5, Tuple 1}, Kim, {Block 13}\n",
      "\tBlock No. 13, Type: BTree, Parent: 15: {Block 1, Tuple 0}, Mozart, {Block 4, Tuple 0}, Singh, {Block 10}\n",
      "\tBlock No. 10, Type: BTree, Parent: 15: {Block 0, Tuple 0}, Srinivasan, {Block 0, Tuple 1}, Wu, None\n"
     ]
    }
   ],
   "source": [
    "db1.getIndex(\"instructor\", \"name\").printTree()"
   ]
  },
  {
   "cell_type": "markdown",
   "metadata": {},
   "source": [
    "Currently the B+-Tree is printed out level-by-level as shown here. {Block 36} is a pointer to the Block 36, whereas {Block 26, Tuple 0} is a pointer to a specific tuple."
   ]
  },
  {
   "cell_type": "code",
   "execution_count": 10,
   "metadata": {
    "collapsed": false
   },
   "outputs": [
    {
     "name": "stdout",
     "output_type": "stream",
     "text": [
      "index = 0, blockNo = 9\n",
      "index = 1, blockNo = 14\n",
      "index = 2, blockNo = 12\n",
      "index = 3, blockNo = 13\n"
     ]
    },
    {
     "data": {
      "text/html": [
       "<svg class=\"chart\" width=\"1820\" height=\"520\">\n",
       "<marker id=\"triangle\" viewBox=\"0 0 10 10\" refX=\"0\" refY=\"5\" markerUnits=\"strokeWidth\" markerWidth=\"5\" markerHeight=\"8\" orient=\"auto\"> <path d=\"M 0 0 L 10 5 L 0 10 z\" /> </marker><g transform=\"translate(0, 75)\"><rect width=\"190\" height=\"30\" fill=\"#ccc\"/><line x1=\"0\" y1=\"0\" x2=\"0\" y2=\"30\" stroke=\"black\" stroke-width=\"1\"/><line x1=\"10\" y1=\"0\" x2=\"10\" y2=\"30\" stroke=\"black\" stroke-width=\"1\"/><line x1=\"60\" y1=\"0\" x2=\"60\" y2=\"30\" stroke=\"black\" stroke-width=\"1\"/><line x1=\"70\" y1=\"0\" x2=\"70\" y2=\"30\" stroke=\"black\" stroke-width=\"1\"/><line x1=\"120\" y1=\"0\" x2=\"120\" y2=\"30\" stroke=\"black\" stroke-width=\"1\"/><line x1=\"130\" y1=\"0\" x2=\"130\" y2=\"30\" stroke=\"black\" stroke-width=\"1\"/><line x1=\"180\" y1=\"0\" x2=\"180\" y2=\"30\" stroke=\"black\" stroke-width=\"1\"/><line x1=\"190\" y1=\"0\" x2=\"190\" y2=\"30\" stroke=\"black\" stroke-width=\"1\"/><text x=\"12\" y=\"15\" dy=\".35em\">Brandt</text><text x=\"72\" y=\"15\" dy=\".35em\">Califi</text><text x=\"132\" y=\"15\" dy=\".35em\">Crick</text></g>\n",
       "<g transform=\"translate(0, 0)\"><rect width=\"190\" height=\"30\" fill=\"#ccc\"/><line x1=\"0\" y1=\"0\" x2=\"0\" y2=\"30\" stroke=\"black\" stroke-width=\"1\"/><line x1=\"10\" y1=\"0\" x2=\"10\" y2=\"30\" stroke=\"black\" stroke-width=\"1\"/><line x1=\"60\" y1=\"0\" x2=\"60\" y2=\"30\" stroke=\"black\" stroke-width=\"1\"/><line x1=\"70\" y1=\"0\" x2=\"70\" y2=\"30\" stroke=\"black\" stroke-width=\"1\"/><line x1=\"120\" y1=\"0\" x2=\"120\" y2=\"30\" stroke=\"black\" stroke-width=\"1\"/><line x1=\"130\" y1=\"0\" x2=\"130\" y2=\"30\" stroke=\"black\" stroke-width=\"1\"/><line x1=\"180\" y1=\"0\" x2=\"180\" y2=\"30\" stroke=\"black\" stroke-width=\"1\"/><line x1=\"190\" y1=\"0\" x2=\"190\" y2=\"30\" stroke=\"black\" stroke-width=\"1\"/><text x=\"12\" y=\"15\" dy=\".35em\">Einste</text><text x=\"72\" y=\"15\" dy=\".35em\">Gold</text><text x=\"132\" y=\"15\" dy=\".35em\">Mozart</text></g>\n",
       "<line x1=\"5\" y1=\"27.0\" x2=\"63\" y2=\"72\" marker-end=\"url(#triangle)\" stroke=\"black\" stroke-width=\"2\"/><line x1=\"65\" y1=\"27.0\" x2=\"233\" y2=\"72\" marker-end=\"url(#triangle)\" stroke=\"black\" stroke-width=\"2\"/><line x1=\"125\" y1=\"27.0\" x2=\"363\" y2=\"72\" marker-end=\"url(#triangle)\" stroke=\"black\" stroke-width=\"2\"/><line x1=\"185\" y1=\"27.0\" x2=\"573\" y2=\"72\" marker-end=\"url(#triangle)\" stroke=\"black\" stroke-width=\"2\"/><g transform=\"translate(300, 75)\"><rect width=\"190\" height=\"30\" fill=\"#ccc\"/><line x1=\"0\" y1=\"0\" x2=\"0\" y2=\"30\" stroke=\"black\" stroke-width=\"1\"/><line x1=\"10\" y1=\"0\" x2=\"10\" y2=\"30\" stroke=\"black\" stroke-width=\"1\"/><line x1=\"60\" y1=\"0\" x2=\"60\" y2=\"30\" stroke=\"black\" stroke-width=\"1\"/><line x1=\"70\" y1=\"0\" x2=\"70\" y2=\"30\" stroke=\"black\" stroke-width=\"1\"/><line x1=\"120\" y1=\"0\" x2=\"120\" y2=\"30\" stroke=\"black\" stroke-width=\"1\"/><line x1=\"130\" y1=\"0\" x2=\"130\" y2=\"30\" stroke=\"black\" stroke-width=\"1\"/><line x1=\"180\" y1=\"0\" x2=\"180\" y2=\"30\" stroke=\"black\" stroke-width=\"1\"/><line x1=\"190\" y1=\"0\" x2=\"190\" y2=\"30\" stroke=\"black\" stroke-width=\"1\"/><text x=\"12\" y=\"15\" dy=\".35em\">Gold</text><text x=\"72\" y=\"15\" dy=\".35em\">Katz</text><text x=\"132\" y=\"15\" dy=\".35em\">Kim</text></g>\n",
       "<g transform=\"translate(510, 75)\"><rect width=\"190\" height=\"30\" fill=\"#ccc\"/><line x1=\"0\" y1=\"0\" x2=\"0\" y2=\"30\" stroke=\"black\" stroke-width=\"1\"/><line x1=\"10\" y1=\"0\" x2=\"10\" y2=\"30\" stroke=\"black\" stroke-width=\"1\"/><line x1=\"60\" y1=\"0\" x2=\"60\" y2=\"30\" stroke=\"black\" stroke-width=\"1\"/><line x1=\"70\" y1=\"0\" x2=\"70\" y2=\"30\" stroke=\"black\" stroke-width=\"1\"/><line x1=\"120\" y1=\"0\" x2=\"120\" y2=\"30\" stroke=\"black\" stroke-width=\"1\"/><line x1=\"130\" y1=\"0\" x2=\"130\" y2=\"30\" stroke=\"black\" stroke-width=\"1\"/><line x1=\"180\" y1=\"0\" x2=\"180\" y2=\"30\" stroke=\"black\" stroke-width=\"1\"/><line x1=\"190\" y1=\"0\" x2=\"190\" y2=\"30\" stroke=\"black\" stroke-width=\"1\"/><text x=\"12\" y=\"15\" dy=\".35em\">Mozart</text><text x=\"72\" y=\"15\" dy=\".35em\">Singh</text><text x=\"132\" y=\"15\" dy=\".35em\">Wu</text></g>\n",
       "<g transform=\"translate(210, 75)\"><rect width=\"70\" height=\"30\" fill=\"#ccc\"/><line x1=\"0\" y1=\"0\" x2=\"0\" y2=\"30\" stroke=\"black\" stroke-width=\"1\"/><line x1=\"10\" y1=\"0\" x2=\"10\" y2=\"30\" stroke=\"black\" stroke-width=\"1\"/><line x1=\"60\" y1=\"0\" x2=\"60\" y2=\"30\" stroke=\"black\" stroke-width=\"1\"/><line x1=\"70\" y1=\"0\" x2=\"70\" y2=\"30\" stroke=\"black\" stroke-width=\"1\"/><text x=\"12\" y=\"15\" dy=\".35em\">El Sai</text></g>\n",
       "</svg>\n"
      ],
      "text/plain": [
       "<btree.DisplayBTree instance at 0x7f34bc0f1cf8>"
      ]
     },
     "execution_count": 10,
     "metadata": {},
     "output_type": "execute_result"
    }
   ],
   "source": [
    "DisplayBTree(db1.getIndex(\"instructor\", \"name\"))"
   ]
  },
  {
   "cell_type": "markdown",
   "metadata": {},
   "source": [
    "### Searching\n",
    "The following snippet of code does a search using the tree, and prints out the resulting tuples. It also prints out the blocks that were retrieved during the search."
   ]
  },
  {
   "cell_type": "code",
   "execution_count": 6,
   "metadata": {
    "collapsed": false
   },
   "outputs": [
    {
     "name": "stdout",
     "output_type": "stream",
     "text": [
      "Retrieving Block No. 16, Type: BTree, Parent: None: {Block 11}, Mozart, {Block 15}\n",
      "Retrieving Block No. 11, Type: BTree, Parent: 16: {Block 9}, Einstein, {Block 14}, Gold, {Block 12}\n",
      "Retrieving Block No. 12, Type: BTree, Parent: 11: {Block 2, Tuple 1}, Gold, {Block 3, Tuple 0}, Katz, {Block 5, Tuple 1}, Kim, {Block 13}\n",
      "Retrieving Block No. 13, Type: BTree, Parent: 15: {Block 1, Tuple 0}, Mozart, {Block 4, Tuple 0}, Singh, {Block 10}\n",
      "Retrieving Block No. 1, Type: RelationBlock: ('15151', 'Mozart', 'Music', '40000'), ('22222', 'Einstein', 'Physics', '95000')\n",
      "Results: ('15151', 'Mozart', 'Music', '40000')\n"
     ]
    }
   ],
   "source": [
    "Globals.printBlockAccesses = True\n",
    "results = db1.getIndex(\"instructor\", \"name\").searchByRange(\"M\", \"S\")\n",
    "if results is not None and len(results) != 0:\n",
    "    print \"Results: \" + \" \".join([str(ptr.getTuple()) for ptr in results])\n",
    "else:\n",
    "    print \"No results found\"\n",
    "Globals.printBlockAccesses = False"
   ]
  },
  {
   "cell_type": "markdown",
   "metadata": {},
   "source": [
    "### Deleting \n",
    "The following code finds a tuple and then deletes it from the relation (and effectively the two B+-Trees on the relation. We print out the final trees."
   ]
  },
  {
   "cell_type": "code",
   "execution_count": 7,
   "metadata": {
    "collapsed": false
   },
   "outputs": [
    {
     "name": "stdout",
     "output_type": "stream",
     "text": [
      "Deleting the entry for key Srinivasan\n",
      "Block No. 15, Type: BTree, Parent: 16: {Block 13}, Srinivasan, {Block 10}\n",
      "** 0 - 13 - 10\n",
      "** 2 - 10 - 10\n",
      "Block No. 16, Type: BTree, Parent: None: {Block 11}, Mozart, {Block 15}\n",
      "** 0 - 11 - 15\n",
      "** 2 - 15 - 15\n"
     ]
    }
   ],
   "source": [
    "deleteKey = \"Srinivasan\"\n",
    "print \"Deleting the entry for key \" + deleteKey\n",
    "index = db1.getIndex(\"instructor\", \"name\")\n",
    "results = index.searchByKey(deleteKey)\n",
    "db1.getRelation(\"instructor\").deleteTuple(results[0])\n",
    "# The BTrees should have been adjusted automatically\n",
    "#index.printTree()\n",
    "#db1.getIndex(\"instructor\", \"dept_name\").printTree()"
   ]
  },
  {
   "cell_type": "code",
   "execution_count": 9,
   "metadata": {
    "collapsed": false
   },
   "outputs": [
    {
     "ename": "KeyError",
     "evalue": "('instructor', 'dept_name')",
     "output_type": "error",
     "traceback": [
      "\u001b[0;31m---------------------------------------------------------------------------\u001b[0m",
      "\u001b[0;31mKeyError\u001b[0m                                  Traceback (most recent call last)",
      "\u001b[0;32m<ipython-input-9-fa1da8649314>\u001b[0m in \u001b[0;36m<module>\u001b[0;34m()\u001b[0m\n\u001b[0;32m----> 1\u001b[0;31m \u001b[0mDisplayBTree\u001b[0m\u001b[0;34m(\u001b[0m\u001b[0mdb1\u001b[0m\u001b[0;34m.\u001b[0m\u001b[0mgetIndex\u001b[0m\u001b[0;34m(\u001b[0m\u001b[0;34m\"instructor\"\u001b[0m\u001b[0;34m,\u001b[0m \u001b[0;34m\"dept_name\"\u001b[0m\u001b[0;34m)\u001b[0m\u001b[0;34m)\u001b[0m\u001b[0;34m\u001b[0m\u001b[0m\n\u001b[0m",
      "\u001b[0;32m/vagrant/create_sample_databases.pyc\u001b[0m in \u001b[0;36mgetIndex\u001b[0;34m(self, relname, attribute)\u001b[0m\n\u001b[1;32m     19\u001b[0m                 \u001b[0;32mreturn\u001b[0m \u001b[0mself\u001b[0m\u001b[0;34m.\u001b[0m\u001b[0mindexes\u001b[0m\u001b[0;34m[\u001b[0m\u001b[0;34m(\u001b[0m\u001b[0mrelname\u001b[0m\u001b[0;34m,\u001b[0m \u001b[0mattribute\u001b[0m\u001b[0;34m)\u001b[0m\u001b[0;34m]\u001b[0m\u001b[0;34m\u001b[0m\u001b[0m\n\u001b[1;32m     20\u001b[0m         \u001b[0;32mdef\u001b[0m \u001b[0mgetIndex\u001b[0m\u001b[0;34m(\u001b[0m\u001b[0mself\u001b[0m\u001b[0;34m,\u001b[0m \u001b[0mrelname\u001b[0m\u001b[0;34m,\u001b[0m \u001b[0mattribute\u001b[0m\u001b[0;34m)\u001b[0m\u001b[0;34m:\u001b[0m\u001b[0;34m\u001b[0m\u001b[0m\n\u001b[0;32m---> 21\u001b[0;31m                 \u001b[0;32mreturn\u001b[0m \u001b[0mself\u001b[0m\u001b[0;34m.\u001b[0m\u001b[0mindexes\u001b[0m\u001b[0;34m[\u001b[0m\u001b[0;34m(\u001b[0m\u001b[0mrelname\u001b[0m\u001b[0;34m,\u001b[0m \u001b[0mattribute\u001b[0m\u001b[0;34m)\u001b[0m\u001b[0;34m]\u001b[0m\u001b[0;34m\u001b[0m\u001b[0m\n\u001b[0m\u001b[1;32m     22\u001b[0m \u001b[0;34m\u001b[0m\u001b[0m\n\u001b[1;32m     23\u001b[0m \u001b[0;32mdef\u001b[0m \u001b[0mcreateDatabase1\u001b[0m\u001b[0;34m(\u001b[0m\u001b[0mname\u001b[0m\u001b[0;34m)\u001b[0m\u001b[0;34m:\u001b[0m\u001b[0;34m\u001b[0m\u001b[0m\n",
      "\u001b[0;31mKeyError\u001b[0m: ('instructor', 'dept_name')"
     ]
    }
   ],
   "source": [
    "DisplayBTree(db1.getIndex(\"instructor\", \"dept_name\"))"
   ]
  },
  {
   "cell_type": "markdown",
   "metadata": {},
   "source": [
    "**Task 1**: However, if I try to delete \"Einstein\", there is an error because the functionality to redistribute is missing (and you have to implement this functionality)."
   ]
  },
  {
   "cell_type": "code",
   "execution_count": 8,
   "metadata": {
    "collapsed": false
   },
   "outputs": [
    {
     "name": "stdout",
     "output_type": "stream",
     "text": [
      "Block No. 11, Type: BTree, Parent: None: {Block 9}, Einstein, {Block 14}, Gold, {Block 12}, Mozart, {Block 13}\n",
      "** 0 - 9 - 14\n",
      "** 2 - 14 - 14\n",
      "Redistributing entries between Block No. 9, Type: BTree, Parent: 11: {Block 5, Tuple 0}, Brandt, {Block 3, Tuple 1}, Califieri, {Block 4, Tuple 1}, Crick, {Block 14} and Block No. 14, Type: BTree, Parent: 11: {Block 2, Tuple 0}, El Said, {Block 12}\n"
     ]
    },
    {
     "ename": "ValueError",
     "evalue": "Functionality to be implemented",
     "output_type": "error",
     "traceback": [
      "\u001b[0;31m---------------------------------------------------------------------------\u001b[0m",
      "\u001b[0;31mValueError\u001b[0m                                Traceback (most recent call last)",
      "\u001b[0;32m<ipython-input-8-c6bb91df63a7>\u001b[0m in \u001b[0;36m<module>\u001b[0;34m()\u001b[0m\n\u001b[1;32m      2\u001b[0m \u001b[0mindex\u001b[0m \u001b[0;34m=\u001b[0m \u001b[0mdb1\u001b[0m\u001b[0;34m.\u001b[0m\u001b[0mgetIndex\u001b[0m\u001b[0;34m(\u001b[0m\u001b[0;34m\"instructor\"\u001b[0m\u001b[0;34m,\u001b[0m \u001b[0;34m\"name\"\u001b[0m\u001b[0;34m)\u001b[0m\u001b[0;34m\u001b[0m\u001b[0m\n\u001b[1;32m      3\u001b[0m \u001b[0mresults\u001b[0m \u001b[0;34m=\u001b[0m \u001b[0mindex\u001b[0m\u001b[0;34m.\u001b[0m\u001b[0msearchByKey\u001b[0m\u001b[0;34m(\u001b[0m\u001b[0mdeleteKey\u001b[0m\u001b[0;34m)\u001b[0m\u001b[0;34m\u001b[0m\u001b[0m\n\u001b[0;32m----> 4\u001b[0;31m \u001b[0mdb1\u001b[0m\u001b[0;34m.\u001b[0m\u001b[0mgetRelation\u001b[0m\u001b[0;34m(\u001b[0m\u001b[0;34m\"instructor\"\u001b[0m\u001b[0;34m)\u001b[0m\u001b[0;34m.\u001b[0m\u001b[0mdeleteTuple\u001b[0m\u001b[0;34m(\u001b[0m\u001b[0mresults\u001b[0m\u001b[0;34m[\u001b[0m\u001b[0;36m0\u001b[0m\u001b[0;34m]\u001b[0m\u001b[0;34m)\u001b[0m\u001b[0;34m\u001b[0m\u001b[0m\n\u001b[0m\u001b[1;32m      5\u001b[0m \u001b[0;31m# The BTrees should have been adjusted automatically\u001b[0m\u001b[0;34m\u001b[0m\u001b[0;34m\u001b[0m\u001b[0m\n\u001b[1;32m      6\u001b[0m \u001b[0mindex\u001b[0m\u001b[0;34m.\u001b[0m\u001b[0mprintTree\u001b[0m\u001b[0;34m(\u001b[0m\u001b[0;34m)\u001b[0m\u001b[0;34m\u001b[0m\u001b[0m\n",
      "\u001b[0;32m/vagrant/disk_relations.pyc\u001b[0m in \u001b[0;36mdeleteTuple\u001b[0;34m(self, ptr)\u001b[0m\n\u001b[1;32m    115\u001b[0m                 \u001b[0mb\u001b[0m \u001b[0;34m=\u001b[0m \u001b[0mself\u001b[0m\u001b[0;34m.\u001b[0m\u001b[0mfindBlock\u001b[0m\u001b[0;34m(\u001b[0m\u001b[0mptr\u001b[0m\u001b[0;34m.\u001b[0m\u001b[0mblockNumber\u001b[0m\u001b[0;34m)\u001b[0m\u001b[0;34m\u001b[0m\u001b[0m\n\u001b[1;32m    116\u001b[0m                 \u001b[0;32mfor\u001b[0m \u001b[0;34m(\u001b[0m\u001b[0mbtree\u001b[0m\u001b[0;34m,\u001b[0m \u001b[0mattribute\u001b[0m\u001b[0;34m)\u001b[0m \u001b[0;32min\u001b[0m \u001b[0mself\u001b[0m\u001b[0;34m.\u001b[0m\u001b[0mindexes\u001b[0m\u001b[0;34m:\u001b[0m\u001b[0;34m\u001b[0m\u001b[0m\n\u001b[0;32m--> 117\u001b[0;31m                         \u001b[0mbtree\u001b[0m\u001b[0;34m.\u001b[0m\u001b[0mdelete\u001b[0m\u001b[0;34m(\u001b[0m\u001b[0mkey\u001b[0m \u001b[0;34m=\u001b[0m \u001b[0mb\u001b[0m\u001b[0;34m.\u001b[0m\u001b[0mgetTuple\u001b[0m\u001b[0;34m(\u001b[0m\u001b[0mptr\u001b[0m\u001b[0;34m.\u001b[0m\u001b[0mindex\u001b[0m\u001b[0;34m)\u001b[0m\u001b[0;34m.\u001b[0m\u001b[0mgetAttribute\u001b[0m\u001b[0;34m(\u001b[0m\u001b[0mattribute\u001b[0m\u001b[0;34m)\u001b[0m\u001b[0;34m,\u001b[0m \u001b[0mptr\u001b[0m \u001b[0;34m=\u001b[0m \u001b[0mptr\u001b[0m\u001b[0;34m)\u001b[0m\u001b[0;34m\u001b[0m\u001b[0m\n\u001b[0m\u001b[1;32m    118\u001b[0m                 \u001b[0mb\u001b[0m\u001b[0;34m.\u001b[0m\u001b[0mdeleteTuple\u001b[0m\u001b[0;34m(\u001b[0m\u001b[0mptr\u001b[0m\u001b[0;34m.\u001b[0m\u001b[0mindex\u001b[0m\u001b[0;34m)\u001b[0m\u001b[0;34m\u001b[0m\u001b[0m\n\u001b[1;32m    119\u001b[0m         \u001b[0;32mdef\u001b[0m \u001b[0mprintTuples\u001b[0m\u001b[0;34m(\u001b[0m\u001b[0mself\u001b[0m\u001b[0;34m)\u001b[0m\u001b[0;34m:\u001b[0m\u001b[0;34m\u001b[0m\u001b[0m\n",
      "\u001b[0;32m/vagrant/btree.py\u001b[0m in \u001b[0;36mdelete\u001b[0;34m(self, key, ptr)\u001b[0m\n\u001b[1;32m    323\u001b[0m         \u001b[0;32mdef\u001b[0m \u001b[0mdelete\u001b[0m\u001b[0;34m(\u001b[0m\u001b[0mself\u001b[0m\u001b[0;34m,\u001b[0m \u001b[0mkey\u001b[0m\u001b[0;34m,\u001b[0m \u001b[0mptr\u001b[0m\u001b[0;34m)\u001b[0m\u001b[0;34m:\u001b[0m\u001b[0;34m\u001b[0m\u001b[0m\n\u001b[1;32m    324\u001b[0m                 \u001b[0mrootBlock\u001b[0m \u001b[0;34m=\u001b[0m \u001b[0mself\u001b[0m\u001b[0;34m.\u001b[0m\u001b[0mroot\u001b[0m\u001b[0;34m(\u001b[0m\u001b[0;34m)\u001b[0m\u001b[0;34m\u001b[0m\u001b[0m\n\u001b[0;32m--> 325\u001b[0;31m                 \u001b[0mrootBlock\u001b[0m\u001b[0;34m.\u001b[0m\u001b[0mdelete\u001b[0m\u001b[0;34m(\u001b[0m\u001b[0mkey\u001b[0m\u001b[0;34m,\u001b[0m \u001b[0mptr\u001b[0m\u001b[0;34m)\u001b[0m\u001b[0;34m\u001b[0m\u001b[0m\n\u001b[0m\u001b[1;32m    326\u001b[0m                 \u001b[0;31m# Need to deal with a pathological case here\u001b[0m\u001b[0;34m\u001b[0m\u001b[0;34m\u001b[0m\u001b[0m\n\u001b[1;32m    327\u001b[0m                 \u001b[0;32mif\u001b[0m \u001b[0mlen\u001b[0m\u001b[0;34m(\u001b[0m\u001b[0mrootBlock\u001b[0m\u001b[0;34m.\u001b[0m\u001b[0mkeysAndPointers\u001b[0m\u001b[0;34m)\u001b[0m \u001b[0;34m==\u001b[0m \u001b[0;36m1\u001b[0m\u001b[0;34m:\u001b[0m\u001b[0;34m\u001b[0m\u001b[0m\n",
      "\u001b[0;32m/vagrant/btree.py\u001b[0m in \u001b[0;36mdelete\u001b[0;34m(self, key, ptr)\u001b[0m\n\u001b[1;32m    257\u001b[0m                                 \u001b[0;32mif\u001b[0m \u001b[0mkey\u001b[0m \u001b[0;34m<\u001b[0m \u001b[0mself\u001b[0m\u001b[0;34m.\u001b[0m\u001b[0mkeysAndPointers\u001b[0m\u001b[0;34m[\u001b[0m\u001b[0mindex\u001b[0m\u001b[0;34m]\u001b[0m\u001b[0;34m:\u001b[0m\u001b[0;34m\u001b[0m\u001b[0m\n\u001b[1;32m    258\u001b[0m                                         \u001b[0mfound\u001b[0m \u001b[0;34m=\u001b[0m \u001b[0mTrue\u001b[0m\u001b[0;34m\u001b[0m\u001b[0m\n\u001b[0;32m--> 259\u001b[0;31m                                         \u001b[0mret\u001b[0m \u001b[0;34m=\u001b[0m \u001b[0mself\u001b[0m\u001b[0;34m.\u001b[0m\u001b[0mkeysAndPointers\u001b[0m\u001b[0;34m[\u001b[0m\u001b[0mindex\u001b[0m\u001b[0;34m-\u001b[0m\u001b[0;36m1\u001b[0m\u001b[0;34m]\u001b[0m\u001b[0;34m.\u001b[0m\u001b[0mgetBlock\u001b[0m\u001b[0;34m(\u001b[0m\u001b[0;34m)\u001b[0m\u001b[0;34m.\u001b[0m\u001b[0mdelete\u001b[0m\u001b[0;34m(\u001b[0m\u001b[0mkey\u001b[0m\u001b[0;34m,\u001b[0m \u001b[0mptr\u001b[0m\u001b[0;34m)\u001b[0m\u001b[0;34m\u001b[0m\u001b[0m\n\u001b[0m\u001b[1;32m    260\u001b[0m                                         \u001b[0;32mbreak\u001b[0m\u001b[0;34m\u001b[0m\u001b[0m\n\u001b[1;32m    261\u001b[0m                         \u001b[0;32mif\u001b[0m \u001b[0;32mnot\u001b[0m \u001b[0mfound\u001b[0m\u001b[0;34m:\u001b[0m\u001b[0;34m\u001b[0m\u001b[0m\n",
      "\u001b[0;32m/vagrant/btree.py\u001b[0m in \u001b[0;36mdelete\u001b[0;34m(self, key, ptr)\u001b[0m\n\u001b[1;32m    247\u001b[0m \u001b[0;34m\u001b[0m\u001b[0m\n\u001b[1;32m    248\u001b[0m                         \u001b[0;32mif\u001b[0m \u001b[0mself\u001b[0m\u001b[0;34m.\u001b[0m\u001b[0misUnderfull\u001b[0m\u001b[0;34m(\u001b[0m\u001b[0;34m)\u001b[0m\u001b[0;34m:\u001b[0m\u001b[0;34m\u001b[0m\u001b[0m\n\u001b[0;32m--> 249\u001b[0;31m                                 \u001b[0;32mreturn\u001b[0m \u001b[0mself\u001b[0m\u001b[0;34m.\u001b[0m\u001b[0mmergeOrRedistributeWithSibling\u001b[0m\u001b[0;34m(\u001b[0m\u001b[0;34m)\u001b[0m\u001b[0;34m\u001b[0m\u001b[0m\n\u001b[0m\u001b[1;32m    250\u001b[0m                         \u001b[0;32melse\u001b[0m\u001b[0;34m:\u001b[0m\u001b[0;34m\u001b[0m\u001b[0m\n\u001b[1;32m    251\u001b[0m                                 \u001b[0;32mreturn\u001b[0m \u001b[0mNone\u001b[0m\u001b[0;34m\u001b[0m\u001b[0m\n",
      "\u001b[0;32m/vagrant/btree.py\u001b[0m in \u001b[0;36mmergeOrRedistributeWithSibling\u001b[0;34m(self)\u001b[0m\n\u001b[1;32m    221\u001b[0m                 \u001b[0;32melse\u001b[0m\u001b[0;34m:\u001b[0m\u001b[0;34m\u001b[0m\u001b[0m\n\u001b[1;32m    222\u001b[0m                         \u001b[0;31m# Need to redistribute pointers between the two and then modify the parent accordingly\u001b[0m\u001b[0;34m\u001b[0m\u001b[0;34m\u001b[0m\u001b[0m\n\u001b[0;32m--> 223\u001b[0;31m                         \u001b[0mnewKey\u001b[0m \u001b[0;34m=\u001b[0m \u001b[0mblock1\u001b[0m\u001b[0;34m.\u001b[0m\u001b[0mredistributeWithBlock\u001b[0m\u001b[0;34m(\u001b[0m\u001b[0mblock2\u001b[0m\u001b[0;34m)\u001b[0m\u001b[0;34m\u001b[0m\u001b[0m\n\u001b[0m\u001b[1;32m    224\u001b[0m \u001b[0;34m\u001b[0m\u001b[0m\n\u001b[1;32m    225\u001b[0m                         \u001b[0;31m# Replace key with newKey in the parent\u001b[0m\u001b[0;34m\u001b[0m\u001b[0;34m\u001b[0m\u001b[0m\n",
      "\u001b[0;32m/vagrant/btree.py\u001b[0m in \u001b[0;36mredistributeWithBlock\u001b[0;34m(self, otherBlock)\u001b[0m\n\u001b[1;32m    198\u001b[0m         \u001b[0;32mdef\u001b[0m \u001b[0mredistributeWithBlock\u001b[0m\u001b[0;34m(\u001b[0m\u001b[0mself\u001b[0m\u001b[0;34m,\u001b[0m \u001b[0motherBlock\u001b[0m\u001b[0;34m)\u001b[0m\u001b[0;34m:\u001b[0m\u001b[0;34m\u001b[0m\u001b[0m\n\u001b[1;32m    199\u001b[0m                 \u001b[0;32mprint\u001b[0m \u001b[0;34m\"Redistributing entries between \"\u001b[0m \u001b[0;34m+\u001b[0m \u001b[0mstr\u001b[0m\u001b[0;34m(\u001b[0m\u001b[0mself\u001b[0m\u001b[0;34m)\u001b[0m \u001b[0;34m+\u001b[0m \u001b[0;34m\" and \"\u001b[0m \u001b[0;34m+\u001b[0m \u001b[0mstr\u001b[0m\u001b[0;34m(\u001b[0m\u001b[0motherBlock\u001b[0m\u001b[0;34m)\u001b[0m\u001b[0;34m\u001b[0m\u001b[0m\n\u001b[0;32m--> 200\u001b[0;31m                 \u001b[0;32mraise\u001b[0m \u001b[0mValueError\u001b[0m\u001b[0;34m(\u001b[0m\u001b[0;34m\"Functionality to be implemented\"\u001b[0m\u001b[0;34m)\u001b[0m\u001b[0;34m\u001b[0m\u001b[0m\n\u001b[0m\u001b[1;32m    201\u001b[0m \u001b[0;34m\u001b[0m\u001b[0m\n\u001b[1;32m    202\u001b[0m         \u001b[0;32mdef\u001b[0m \u001b[0misUnderfull\u001b[0m\u001b[0;34m(\u001b[0m\u001b[0mself\u001b[0m\u001b[0;34m)\u001b[0m\u001b[0;34m:\u001b[0m\u001b[0;34m\u001b[0m\u001b[0m\n",
      "\u001b[0;31mValueError\u001b[0m: Functionality to be implemented"
     ]
    }
   ],
   "source": [
    "deleteKey = \"Einstein\"\n",
    "index = db1.getIndex(\"instructor\", \"name\")\n",
    "results = index.searchByKey(deleteKey)\n",
    "db1.getRelation(\"instructor\").deleteTuple(results[0])\n",
    "# The BTrees should have been adjusted automatically\n",
    "index.printTree()\n",
    "db1.getIndex(\"instructor\", \"dept_name\").printTree()"
   ]
  },
  {
   "cell_type": "markdown",
   "metadata": {},
   "source": [
    "## Query Processing Operators\n",
    "`queryprocessing.py` contains simple implementations of several different operators, including SequentialScan, Nested Loops Join, and Hash Join. The operators are implemented using the iterator interface, where every operator exposes a basic API: `init()`, `get_next()`, and `close()`. This allows us to chain together the operators in a variety of ways without having to worry about which operator is providing input to which operator.\n",
    "\n",
    "*Note: The provided code has limited functionality. For example, the joins require SequentialScan as the inputs, but this is a limitation of the current code.*\n",
    "\n",
    "The following shows the simplest SequentialScan operator."
   ]
  },
  {
   "cell_type": "code",
   "execution_count": null,
   "metadata": {
    "collapsed": false
   },
   "outputs": [],
   "source": [
    "scan1 = SequentialScan(db1.getRelation(\"instructor\"))\n",
    "scan1.init()\n",
    "for t in scan1.get_next():\n",
    "    print \"---> \" + str(t)"
   ]
  },
  {
   "cell_type": "markdown",
   "metadata": {},
   "source": [
    "The following shows an example of a NestedLoopsJoin, where we first set up two SequentialScan's and then use them as inputs to the NestedLoopsJoin opeartor."
   ]
  },
  {
   "cell_type": "code",
   "execution_count": null,
   "metadata": {
    "collapsed": false
   },
   "outputs": [],
   "source": [
    "scan1 = SequentialScan(db1.getRelation(\"instructor\"))\n",
    "scan2 = SequentialScan(db1.getRelation(\"department\"))\n",
    "nl_join = NestedLoopsJoin(scan1, scan2, \"dept_name\", \"dept_name\")\n",
    "nl_join.init()\n",
    "for t in nl_join.get_next():\n",
    "    print \"---> \" + str(t)"
   ]
  },
  {
   "cell_type": "markdown",
   "metadata": {},
   "source": [
    "If I reexecute the above after turning on printBlockAccesses, I can see all the blocks that were read."
   ]
  },
  {
   "cell_type": "code",
   "execution_count": null,
   "metadata": {
    "collapsed": false
   },
   "outputs": [],
   "source": [
    "Globals.printBlockAccesses = True\n",
    "nl_join.init()\n",
    "for t in nl_join.get_next():\n",
    "    print \"---> \" + str(t)\n",
    "Globals.printBlockAccesses = False"
   ]
  },
  {
   "cell_type": "markdown",
   "metadata": {},
   "source": [
    "Similarly, basic HashJoin also works."
   ]
  },
  {
   "cell_type": "code",
   "execution_count": null,
   "metadata": {
    "collapsed": false
   },
   "outputs": [],
   "source": [
    "hash_join = HashJoin(SequentialScan(db1.getRelation(\"instructor\")), SequentialScan(db1.getRelation(\"department\")), \"dept_name\", \"dept_name\", HashJoin.INNER_JOIN)\n",
    "hash_join.init()\n",
    "for t in hash_join.get_next():\n",
    "        print \"---> \" + str(t)"
   ]
  },
  {
   "cell_type": "markdown",
   "metadata": {},
   "source": [
    "**Tasks 2, 3, 4**: However, SortMergeJoin, and the Outer Hash Joins don't work. You are to implement that functionality so that the following commands work."
   ]
  },
  {
   "cell_type": "code",
   "execution_count": null,
   "metadata": {
    "collapsed": false
   },
   "outputs": [],
   "source": [
    "hash_join = HashJoin(SequentialScan(db1.getRelation(\"instructor\")), \n",
    "                         SequentialScan(db1.getRelation(\"department\")), \"dept_name\", \"dept_name\", HashJoin.LEFT_OUTER_JOIN)\n",
    "hash_join.init()\n",
    "for t in hash_join.get_next():\n",
    "        print \"---> \" + str(t)"
   ]
  },
  {
   "cell_type": "code",
   "execution_count": null,
   "metadata": {
    "collapsed": false
   },
   "outputs": [],
   "source": [
    "hash_join = HashJoin(SequentialScan(db1.getRelation(\"instructor\")), \n",
    "                         SequentialScan(db1.getRelation(\"department\")), \"dept_name\", \"dept_name\", HashJoin.RIGHT_OUTER_JOIN)\n",
    "hash_join.init()\n",
    "for t in hash_join.get_next():\n",
    "        print \"---> \" + str(t)"
   ]
  },
  {
   "cell_type": "code",
   "execution_count": null,
   "metadata": {
    "collapsed": false
   },
   "outputs": [],
   "source": [
    "sm_join = SortMergeJoin(SequentialScan(db1.getRelation(\"instructor\")), \n",
    "                         SequentialScan(db1.getRelation(\"department\")), \"dept_name\", \"dept_name\")\n",
    "sm_join.init()\n",
    "for t in sm_join.get_next():\n",
    "        print \"---> \" + str(t)"
   ]
  },
  {
   "cell_type": "markdown",
   "metadata": {},
   "source": [
    "#### Aggregates\n",
    "Finally, the basic aggregate operation works as shown below (it produces a single answer).\n",
    "\n",
    "\n",
    "**Task 5**: However, the following \"group by\" aggregate portion doesn't work. You are to implement that."
   ]
  },
  {
   "cell_type": "code",
   "execution_count": null,
   "metadata": {
    "collapsed": false
   },
   "outputs": [],
   "source": [
    "aggr = GroupByAggregate(SequentialScan(db1.getRelation(\"instructor\")), \"salary\", GroupByAggregate.SUM)\n",
    "aggr.init()\n",
    "for t in aggr.get_next():\n",
    "        print \"---> \" + str(t)\n",
    "\n",
    "aggr = GroupByAggregate(SequentialScan(db1.getRelation(\"instructor\")), \"salary\", GroupByAggregate.SUM, \"dept_name\")\n",
    "aggr.init()\n",
    "for t in aggr.get_next():\n",
    "        print \"---> \" + str(t)"
   ]
  },
  {
   "cell_type": "code",
   "execution_count": null,
   "metadata": {
    "collapsed": false
   },
   "outputs": [],
   "source": [
    "aggr = GroupByAggregate(SequentialScan(db1.getRelation(\"instructor\")), \"salary\", GroupByAggregate.MAX)\n",
    "aggr.init()\n",
    "for t in aggr.get_next():\n",
    "        print \"---> \" + str(t)"
   ]
  },
  {
   "cell_type": "code",
   "execution_count": null,
   "metadata": {
    "collapsed": false
   },
   "outputs": [],
   "source": [
    "aggr = GroupByAggregate(SequentialScan(db1.getRelation(\"instructor\")), \"salary\", GroupByAggregate.MIN)\n",
    "aggr.init()\n",
    "for t in aggr.get_next():\n",
    "        print \"---> \" + str(t)"
   ]
  },
  {
   "cell_type": "code",
   "execution_count": null,
   "metadata": {
    "collapsed": false
   },
   "outputs": [],
   "source": [
    "aggr = GroupByAggregate(SequentialScan(db1.getRelation(\"dept_name\")), \"salary\", GroupByAggregate.MAX)\n",
    "aggr.init()\n",
    "for t in aggr.get_next():\n",
    "        print \"---> \" + str(t)"
   ]
  },
  {
   "cell_type": "code",
   "execution_count": null,
   "metadata": {
    "collapsed": false
   },
   "outputs": [],
   "source": [
    "aggr = GroupByAggregate(SequentialScan(db1.getRelation(\"instructor\")), \"dept_name\", GroupByAggregate.MAX)\n",
    "aggr.init()\n",
    "for t in aggr.get_next():\n",
    "        print \"---> \" + str(t)"
   ]
  },
  {
   "cell_type": "code",
   "execution_count": null,
   "metadata": {
    "collapsed": false
   },
   "outputs": [],
   "source": [
    "index_name"
   ]
  },
  {
   "cell_type": "code",
   "execution_count": null,
   "metadata": {
    "collapsed": false
   },
   "outputs": [],
   "source": [
    "index.printTree()"
   ]
  },
  {
   "cell_type": "code",
   "execution_count": null,
   "metadata": {
    "collapsed": false
   },
   "outputs": [],
   "source": [
    "results = index.searchByKey(\"El Said\")"
   ]
  },
  {
   "cell_type": "code",
   "execution_count": null,
   "metadata": {
    "collapsed": false
   },
   "outputs": [],
   "source": [
    "results"
   ]
  },
  {
   "cell_type": "code",
   "execution_count": null,
   "metadata": {
    "collapsed": false
   },
   "outputs": [],
   "source": [
    "results[0].getBlock()"
   ]
  },
  {
   "cell_type": "code",
   "execution_count": null,
   "metadata": {
    "collapsed": false
   },
   "outputs": [],
   "source": [
    "db1.getRelation(\"instructor\").deleteTuple(results[0])"
   ]
  },
  {
   "cell_type": "code",
   "execution_count": null,
   "metadata": {
    "collapsed": false
   },
   "outputs": [],
   "source": [
    "class Shout(object):\n",
    "    def __init__(self, text):\n",
    "        self.text = text\n",
    "\n",
    "    def _repr_html_(self):\n",
    "        return '<h3>Detailed Breakdown</h3><svg class=\"chart\" width=\"1220\" height=\"320\"><g transform=\"translate(0, 20)\"><text x=\"0\" y=\"10\" dy=\".35em\">2016-10-03</text></g> <g transform=\"translate(120, 20)\"><rect width=\"1000\" height=\"20\" fill=\"#ddd\"/></g><g transform=\"translate(266.997088628, 20)\"><rect width=\"0.0348439930556\" height=\"20\" fill=\"#000\"/></g><line x1=\"864\" y1=\"16\" x2=\"864\" y2=\"46\"  stroke=\"black\" stroke-width=\"1\"/></svg>'\n"
   ]
  },
  {
   "cell_type": "code",
   "execution_count": null,
   "metadata": {
    "collapsed": false
   },
   "outputs": [],
   "source": [
    "Shout"
   ]
  },
  {
   "cell_type": "code",
   "execution_count": null,
   "metadata": {
    "collapsed": false
   },
   "outputs": [],
   "source": [
    "Shout(\"HELLO\")"
   ]
  },
  {
   "cell_type": "code",
   "execution_count": null,
   "metadata": {
    "collapsed": true
   },
   "outputs": [],
   "source": []
  }
 ],
 "metadata": {
  "kernelspec": {
   "display_name": "Python 2",
   "language": "python",
   "name": "python2"
  },
  "language_info": {
   "codemirror_mode": {
    "name": "ipython",
    "version": 2
   },
   "file_extension": ".py",
   "mimetype": "text/x-python",
   "name": "python",
   "nbconvert_exporter": "python",
   "pygments_lexer": "ipython2",
   "version": "2.7.6"
  }
 },
 "nbformat": 4,
 "nbformat_minor": 0
}
