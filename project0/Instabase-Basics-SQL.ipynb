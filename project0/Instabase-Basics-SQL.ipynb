{
 "cells": [
  {
   "cell_type": "markdown",
   "metadata": {},
   "source": [
    "This Notebook covers the basics of SQL. If you are opening it in Instabase, you can edit and run queries against the database, which is already running on Instabase servers. In other case, you should also make sure that you are comfortable using SQL through `psql` (see the [Setup Instructions](https://github.com/umddb/cmsc424-fall2016/tree/master/project0) to get started with that).\n",
    "\n",
    "The server is already running. We connect to it using the special commands provided by Instabase for this purpose."
   ]
  },
  {
   "cell_type": "code",
   "execution_count": 1,
   "metadata": {
    "collapsed": false
   },
   "outputs": [
    {
     "ename": "NameError",
     "evalue": "name 'ib' is not defined",
     "output_type": "error",
     "traceback": [
      "\u001b[0;31m---------------------------------------------------------------------------\u001b[0m",
      "\u001b[0;31mNameError\u001b[0m                                 Traceback (most recent call last)",
      "\u001b[0;32m<ipython-input-1-ed7c66e219c0>\u001b[0m in \u001b[0;36m<module>\u001b[0;34m()\u001b[0m\n\u001b[0;32m----> 1\u001b[0;31m \u001b[0mib\u001b[0m\u001b[0;34m.\u001b[0m\u001b[0mconnect_db\u001b[0m\u001b[0;34m(\u001b[0m\u001b[0;34m'ib://amolvdeshpande/CMSC424/databases/umd-cmsc424'\u001b[0m\u001b[0;34m)\u001b[0m\u001b[0;34m\u001b[0m\u001b[0m\n\u001b[0m",
      "\u001b[0;31mNameError\u001b[0m: name 'ib' is not defined"
     ]
    }
   ],
   "source": [
    "ib.connect_db('ib://amolvdeshpande/CMSC424/databases/umd-cmsc424')"
   ]
  },
  {
   "cell_type": "markdown",
   "metadata": {},
   "source": [
    "We can now run SQL commands using `magic` commands, which is an extensibility mechanism provided by Jupyter. %sql is for single-line commands, whereas %%sql allows us to do multi-line SQL commands."
   ]
  },
  {
   "cell_type": "code",
   "execution_count": 71,
   "metadata": {
    "collapsed": false
   },
   "outputs": [
    {
     "data": {
      "text/html": [
       "<div>\n",
       "<table border=\"1\" class=\"dataframe\">\n",
       "  <thead>\n",
       "    <tr style=\"text-align: right;\">\n",
       "      <th></th>\n",
       "      <th>id</th>\n",
       "    </tr>\n",
       "  </thead>\n",
       "  <tbody>\n",
       "    <tr>\n",
       "      <th>0</th>\n",
       "      <td>10101</td>\n",
       "    </tr>\n",
       "    <tr>\n",
       "      <th>1</th>\n",
       "      <td>12121</td>\n",
       "    </tr>\n",
       "    <tr>\n",
       "      <th>2</th>\n",
       "      <td>15151</td>\n",
       "    </tr>\n",
       "    <tr>\n",
       "      <th>3</th>\n",
       "      <td>22222</td>\n",
       "    </tr>\n",
       "    <tr>\n",
       "      <th>4</th>\n",
       "      <td>32343</td>\n",
       "    </tr>\n",
       "    <tr>\n",
       "      <th>5</th>\n",
       "      <td>33456</td>\n",
       "    </tr>\n",
       "    <tr>\n",
       "      <th>6</th>\n",
       "      <td>45565</td>\n",
       "    </tr>\n",
       "    <tr>\n",
       "      <th>7</th>\n",
       "      <td>58583</td>\n",
       "    </tr>\n",
       "    <tr>\n",
       "      <th>8</th>\n",
       "      <td>76543</td>\n",
       "    </tr>\n",
       "    <tr>\n",
       "      <th>9</th>\n",
       "      <td>76766</td>\n",
       "    </tr>\n",
       "    <tr>\n",
       "      <th>10</th>\n",
       "      <td>83821</td>\n",
       "    </tr>\n",
       "    <tr>\n",
       "      <th>11</th>\n",
       "      <td>98345</td>\n",
       "    </tr>\n",
       "  </tbody>\n",
       "</table>\n",
       "</div>"
      ],
      "text/plain": [
       "       id\n",
       "0   10101\n",
       "1   12121\n",
       "2   15151\n",
       "3   22222\n",
       "4   32343\n",
       "5   33456\n",
       "6   45565\n",
       "7   58583\n",
       "8   76543\n",
       "9   76766\n",
       "10  83821\n",
       "11  98345"
      ]
     },
     "execution_count": 71,
     "metadata": {},
     "output_type": "execute_result"
    }
   ],
   "source": [
    "%sql SELECT id FROM instructor;"
   ]
  },
  {
   "cell_type": "markdown",
   "metadata": {},
   "source": [
    "One drawback of this way of accessing the database is that we can only run valid SQL -- the commands like `\\d` provided by `psql` are not available to us. Instead, we will need to query the system catalog (metadata) directly. The first command below is equivalent to `\\d`, whereas the second one is similar to `\\d instructor`."
   ]
  },
  {
   "cell_type": "code",
   "execution_count": 72,
   "metadata": {
    "collapsed": false
   },
   "outputs": [
    {
     "data": {
      "text/html": [
       "<div>\n",
       "<table border=\"1\" class=\"dataframe\">\n",
       "  <thead>\n",
       "    <tr style=\"text-align: right;\">\n",
       "      <th></th>\n",
       "      <th>table_schema</th>\n",
       "      <th>table_name</th>\n",
       "    </tr>\n",
       "  </thead>\n",
       "  <tbody>\n",
       "    <tr>\n",
       "      <th>0</th>\n",
       "      <td>public</td>\n",
       "      <td>department</td>\n",
       "    </tr>\n",
       "    <tr>\n",
       "      <th>1</th>\n",
       "      <td>public</td>\n",
       "      <td>section</td>\n",
       "    </tr>\n",
       "    <tr>\n",
       "      <th>2</th>\n",
       "      <td>public</td>\n",
       "      <td>course</td>\n",
       "    </tr>\n",
       "    <tr>\n",
       "      <th>3</th>\n",
       "      <td>public</td>\n",
       "      <td>prereq</td>\n",
       "    </tr>\n",
       "    <tr>\n",
       "      <th>4</th>\n",
       "      <td>public</td>\n",
       "      <td>classroom</td>\n",
       "    </tr>\n",
       "    <tr>\n",
       "      <th>5</th>\n",
       "      <td>public</td>\n",
       "      <td>takes</td>\n",
       "    </tr>\n",
       "    <tr>\n",
       "      <th>6</th>\n",
       "      <td>public</td>\n",
       "      <td>instructor</td>\n",
       "    </tr>\n",
       "    <tr>\n",
       "      <th>7</th>\n",
       "      <td>public</td>\n",
       "      <td>teaches</td>\n",
       "    </tr>\n",
       "    <tr>\n",
       "      <th>8</th>\n",
       "      <td>public</td>\n",
       "      <td>student</td>\n",
       "    </tr>\n",
       "    <tr>\n",
       "      <th>9</th>\n",
       "      <td>public</td>\n",
       "      <td>advisor</td>\n",
       "    </tr>\n",
       "    <tr>\n",
       "      <th>10</th>\n",
       "      <td>public</td>\n",
       "      <td>time_slot</td>\n",
       "    </tr>\n",
       "  </tbody>\n",
       "</table>\n",
       "</div>"
      ],
      "text/plain": [
       "   table_schema  table_name\n",
       "0        public  department\n",
       "1        public     section\n",
       "2        public      course\n",
       "3        public      prereq\n",
       "4        public   classroom\n",
       "5        public       takes\n",
       "6        public  instructor\n",
       "7        public     teaches\n",
       "8        public     student\n",
       "9        public     advisor\n",
       "10       public   time_slot"
      ]
     },
     "execution_count": 72,
     "metadata": {},
     "output_type": "execute_result"
    }
   ],
   "source": [
    "%%sql\n",
    "SELECT table_schema, table_name FROM information_schema.tables\n",
    "    WHERE table_type = 'BASE TABLE' AND\n",
    "    table_schema NOT IN ('pg_catalog', 'information_schema', 'priv');"
   ]
  },
  {
   "cell_type": "code",
   "execution_count": 73,
   "metadata": {
    "collapsed": false
   },
   "outputs": [
    {
     "data": {
      "text/html": [
       "<div>\n",
       "<table border=\"1\" class=\"dataframe\">\n",
       "  <thead>\n",
       "    <tr style=\"text-align: right;\">\n",
       "      <th></th>\n",
       "      <th>column_name</th>\n",
       "      <th>data_type</th>\n",
       "    </tr>\n",
       "  </thead>\n",
       "  <tbody>\n",
       "    <tr>\n",
       "      <th>0</th>\n",
       "      <td>id</td>\n",
       "      <td>character varying</td>\n",
       "    </tr>\n",
       "    <tr>\n",
       "      <th>1</th>\n",
       "      <td>name</td>\n",
       "      <td>character varying</td>\n",
       "    </tr>\n",
       "    <tr>\n",
       "      <th>2</th>\n",
       "      <td>dept_name</td>\n",
       "      <td>character varying</td>\n",
       "    </tr>\n",
       "    <tr>\n",
       "      <th>3</th>\n",
       "      <td>salary</td>\n",
       "      <td>numeric</td>\n",
       "    </tr>\n",
       "  </tbody>\n",
       "</table>\n",
       "</div>"
      ],
      "text/plain": [
       "  column_name          data_type\n",
       "0          id  character varying\n",
       "1        name  character varying\n",
       "2   dept_name  character varying\n",
       "3      salary            numeric"
      ]
     },
     "execution_count": 73,
     "metadata": {},
     "output_type": "execute_result"
    }
   ],
   "source": [
    "%%sql\n",
    "SELECT column_name, data_type\n",
    "    FROM INFORMATION_SCHEMA.COLUMNS WHERE table_name = 'instructor';"
   ]
  },
  {
   "cell_type": "markdown",
   "metadata": {},
   "source": [
    "### University Database\n",
    "Below we will use the University database from the class textbook. The University Dataset is the same as the one discussed in the book, and contains randomly populated information about the students, courses, and instructors in a university. The schema diagram for the database is as follows:\n",
    "<center><img src=\"https://github.com/umddb/cmsc424-fall2015/raw/master/postgresql-setup/university.png\" width=800px></center>"
   ]
  },
  {
   "cell_type": "markdown",
   "metadata": {},
   "source": [
    "### Select Queries\n",
    "Let's start with the most basic queries. The following query reports the courses with titles containing Biology."
   ]
  },
  {
   "cell_type": "code",
   "execution_count": 74,
   "metadata": {
    "collapsed": false
   },
   "outputs": [
    {
     "data": {
      "text/html": [
       "<div>\n",
       "<table border=\"1\" class=\"dataframe\">\n",
       "  <thead>\n",
       "    <tr style=\"text-align: right;\">\n",
       "      <th></th>\n",
       "      <th>course_id</th>\n",
       "      <th>title</th>\n",
       "      <th>dept_name</th>\n",
       "      <th>credits</th>\n",
       "    </tr>\n",
       "  </thead>\n",
       "  <tbody>\n",
       "    <tr>\n",
       "      <th>0</th>\n",
       "      <td>BIO-101</td>\n",
       "      <td>Intro. to Biology</td>\n",
       "      <td>Biology</td>\n",
       "      <td>4</td>\n",
       "    </tr>\n",
       "    <tr>\n",
       "      <th>1</th>\n",
       "      <td>BIO-399</td>\n",
       "      <td>Computational Biology</td>\n",
       "      <td>Biology</td>\n",
       "      <td>3</td>\n",
       "    </tr>\n",
       "  </tbody>\n",
       "</table>\n",
       "</div>"
      ],
      "text/plain": [
       "  course_id                  title dept_name credits\n",
       "0   BIO-101      Intro. to Biology   Biology       4\n",
       "1   BIO-399  Computational Biology   Biology       3"
      ]
     },
     "execution_count": 74,
     "metadata": {},
     "output_type": "execute_result"
    }
   ],
   "source": [
    "%sql select * from course where title like '%Biology%';"
   ]
  },
  {
   "cell_type": "markdown",
   "metadata": {},
   "source": [
    "There are two  courses. How many students are enrolled in the first one (ever)? What about in Summer 2009?"
   ]
  },
  {
   "cell_type": "code",
   "execution_count": 75,
   "metadata": {
    "collapsed": false
   },
   "outputs": [
    {
     "data": {
      "text/html": [
       "<div>\n",
       "<table border=\"1\" class=\"dataframe\">\n",
       "  <thead>\n",
       "    <tr style=\"text-align: right;\">\n",
       "      <th></th>\n",
       "      <th>id</th>\n",
       "      <th>course_id</th>\n",
       "      <th>sec_id</th>\n",
       "      <th>semester</th>\n",
       "      <th>year</th>\n",
       "      <th>grade</th>\n",
       "    </tr>\n",
       "  </thead>\n",
       "  <tbody>\n",
       "    <tr>\n",
       "      <th>0</th>\n",
       "      <td>98988</td>\n",
       "      <td>BIO-101</td>\n",
       "      <td>1</td>\n",
       "      <td>Summer</td>\n",
       "      <td>2009</td>\n",
       "      <td>A</td>\n",
       "    </tr>\n",
       "  </tbody>\n",
       "</table>\n",
       "</div>"
      ],
      "text/plain": [
       "      id course_id sec_id semester  year grade\n",
       "0  98988   BIO-101      1   Summer  2009     A"
      ]
     },
     "execution_count": 75,
     "metadata": {},
     "output_type": "execute_result"
    }
   ],
   "source": [
    "%sql select * from takes where course_id = 'BIO-101';"
   ]
  },
  {
   "cell_type": "code",
   "execution_count": 76,
   "metadata": {
    "collapsed": false
   },
   "outputs": [
    {
     "data": {
      "text/html": [
       "<div>\n",
       "<table border=\"1\" class=\"dataframe\">\n",
       "  <thead>\n",
       "    <tr style=\"text-align: right;\">\n",
       "      <th></th>\n",
       "      <th>id</th>\n",
       "      <th>course_id</th>\n",
       "      <th>sec_id</th>\n",
       "      <th>semester</th>\n",
       "      <th>year</th>\n",
       "      <th>grade</th>\n",
       "    </tr>\n",
       "  </thead>\n",
       "  <tbody>\n",
       "    <tr>\n",
       "      <th>0</th>\n",
       "      <td>98988</td>\n",
       "      <td>BIO-101</td>\n",
       "      <td>1</td>\n",
       "      <td>Summer</td>\n",
       "      <td>2009</td>\n",
       "      <td>A</td>\n",
       "    </tr>\n",
       "  </tbody>\n",
       "</table>\n",
       "</div>"
      ],
      "text/plain": [
       "      id course_id sec_id semester  year grade\n",
       "0  98988   BIO-101      1   Summer  2009     A"
      ]
     },
     "execution_count": 76,
     "metadata": {},
     "output_type": "execute_result"
    }
   ],
   "source": [
    "%sql select * from takes where course_id = 'BIO-101'  and year = 2009 and semester = 'Summer';"
   ]
  },
  {
   "cell_type": "markdown",
   "metadata": {},
   "source": [
    "### Aggregates\n",
    "\n",
    "Count the number of instructors in Finance"
   ]
  },
  {
   "cell_type": "code",
   "execution_count": 77,
   "metadata": {
    "collapsed": false
   },
   "outputs": [
    {
     "data": {
      "text/html": [
       "<div>\n",
       "<table border=\"1\" class=\"dataframe\">\n",
       "  <thead>\n",
       "    <tr style=\"text-align: right;\">\n",
       "      <th></th>\n",
       "      <th>count</th>\n",
       "    </tr>\n",
       "  </thead>\n",
       "  <tbody>\n",
       "    <tr>\n",
       "      <th>0</th>\n",
       "      <td>2</td>\n",
       "    </tr>\n",
       "  </tbody>\n",
       "</table>\n",
       "</div>"
      ],
      "text/plain": [
       "  count\n",
       "0     2"
      ]
     },
     "execution_count": 77,
     "metadata": {},
     "output_type": "execute_result"
    }
   ],
   "source": [
    "%sql select count(*) from instructor where dept_name = 'Finance';"
   ]
  },
  {
   "cell_type": "markdown",
   "metadata": {},
   "source": [
    "Find the instructor(s) with the highest salary. Note that using a nested \"subquery\" (which first finds the maximum value of the salary) as below is the most compact way to write this query."
   ]
  },
  {
   "cell_type": "code",
   "execution_count": 78,
   "metadata": {
    "collapsed": false
   },
   "outputs": [
    {
     "data": {
      "text/html": [
       "<div>\n",
       "<table border=\"1\" class=\"dataframe\">\n",
       "  <thead>\n",
       "    <tr style=\"text-align: right;\">\n",
       "      <th></th>\n",
       "      <th>id</th>\n",
       "      <th>name</th>\n",
       "      <th>dept_name</th>\n",
       "      <th>salary</th>\n",
       "    </tr>\n",
       "  </thead>\n",
       "  <tbody>\n",
       "    <tr>\n",
       "      <th>0</th>\n",
       "      <td>22222</td>\n",
       "      <td>Einstein</td>\n",
       "      <td>Physics</td>\n",
       "      <td>95000.00</td>\n",
       "    </tr>\n",
       "  </tbody>\n",
       "</table>\n",
       "</div>"
      ],
      "text/plain": [
       "      id      name dept_name    salary\n",
       "0  22222  Einstein   Physics  95000.00"
      ]
     },
     "execution_count": 78,
     "metadata": {},
     "output_type": "execute_result"
    }
   ],
   "source": [
    "%%sql \n",
    "select *\n",
    "from instructor\n",
    "where salary = (select max(salary) from instructor);"
   ]
  },
  {
   "cell_type": "markdown",
   "metadata": {},
   "source": [
    "### Joins and Cartesian Product \n",
    "To find building names for all instructors, we must do a join between two relations."
   ]
  },
  {
   "cell_type": "code",
   "execution_count": 79,
   "metadata": {
    "collapsed": false
   },
   "outputs": [
    {
     "data": {
      "text/html": [
       "<div>\n",
       "<table border=\"1\" class=\"dataframe\">\n",
       "  <thead>\n",
       "    <tr style=\"text-align: right;\">\n",
       "      <th></th>\n",
       "      <th>name</th>\n",
       "      <th>dept_name</th>\n",
       "      <th>building</th>\n",
       "    </tr>\n",
       "  </thead>\n",
       "  <tbody>\n",
       "    <tr>\n",
       "      <th>0</th>\n",
       "      <td>Srinivasan</td>\n",
       "      <td>Comp. Sci.</td>\n",
       "      <td>Taylor</td>\n",
       "    </tr>\n",
       "    <tr>\n",
       "      <th>1</th>\n",
       "      <td>Wu</td>\n",
       "      <td>Finance</td>\n",
       "      <td>Painter</td>\n",
       "    </tr>\n",
       "    <tr>\n",
       "      <th>2</th>\n",
       "      <td>Mozart</td>\n",
       "      <td>Music</td>\n",
       "      <td>Packard</td>\n",
       "    </tr>\n",
       "    <tr>\n",
       "      <th>3</th>\n",
       "      <td>Einstein</td>\n",
       "      <td>Physics</td>\n",
       "      <td>Watson</td>\n",
       "    </tr>\n",
       "    <tr>\n",
       "      <th>4</th>\n",
       "      <td>El Said</td>\n",
       "      <td>History</td>\n",
       "      <td>Painter</td>\n",
       "    </tr>\n",
       "    <tr>\n",
       "      <th>5</th>\n",
       "      <td>Gold</td>\n",
       "      <td>Physics</td>\n",
       "      <td>Watson</td>\n",
       "    </tr>\n",
       "    <tr>\n",
       "      <th>6</th>\n",
       "      <td>Katz</td>\n",
       "      <td>Comp. Sci.</td>\n",
       "      <td>Taylor</td>\n",
       "    </tr>\n",
       "    <tr>\n",
       "      <th>7</th>\n",
       "      <td>Califieri</td>\n",
       "      <td>History</td>\n",
       "      <td>Painter</td>\n",
       "    </tr>\n",
       "    <tr>\n",
       "      <th>8</th>\n",
       "      <td>Singh</td>\n",
       "      <td>Finance</td>\n",
       "      <td>Painter</td>\n",
       "    </tr>\n",
       "    <tr>\n",
       "      <th>9</th>\n",
       "      <td>Crick</td>\n",
       "      <td>Biology</td>\n",
       "      <td>Watson</td>\n",
       "    </tr>\n",
       "    <tr>\n",
       "      <th>10</th>\n",
       "      <td>Brandt</td>\n",
       "      <td>Comp. Sci.</td>\n",
       "      <td>Taylor</td>\n",
       "    </tr>\n",
       "    <tr>\n",
       "      <th>11</th>\n",
       "      <td>Kim</td>\n",
       "      <td>Elec. Eng.</td>\n",
       "      <td>Taylor</td>\n",
       "    </tr>\n",
       "  </tbody>\n",
       "</table>\n",
       "</div>"
      ],
      "text/plain": [
       "          name   dept_name building\n",
       "0   Srinivasan  Comp. Sci.   Taylor\n",
       "1           Wu     Finance  Painter\n",
       "2       Mozart       Music  Packard\n",
       "3     Einstein     Physics   Watson\n",
       "4      El Said     History  Painter\n",
       "5         Gold     Physics   Watson\n",
       "6         Katz  Comp. Sci.   Taylor\n",
       "7    Califieri     History  Painter\n",
       "8        Singh     Finance  Painter\n",
       "9        Crick     Biology   Watson\n",
       "10      Brandt  Comp. Sci.   Taylor\n",
       "11         Kim  Elec. Eng.   Taylor"
      ]
     },
     "execution_count": 79,
     "metadata": {},
     "output_type": "execute_result"
    }
   ],
   "source": [
    "%%sql\n",
    "select name, instructor.dept_name, building\n",
    "from instructor, department\n",
    "where instructor.dept_name = department.dept_name;"
   ]
  },
  {
   "cell_type": "markdown",
   "metadata": {},
   "source": [
    "Since the join here is a equality join on the common attributes in the two relations, we can also just do:"
   ]
  },
  {
   "cell_type": "code",
   "execution_count": 80,
   "metadata": {
    "collapsed": false
   },
   "outputs": [
    {
     "data": {
      "text/html": [
       "<div>\n",
       "<table border=\"1\" class=\"dataframe\">\n",
       "  <thead>\n",
       "    <tr style=\"text-align: right;\">\n",
       "      <th></th>\n",
       "      <th>name</th>\n",
       "      <th>dept_name</th>\n",
       "      <th>building</th>\n",
       "    </tr>\n",
       "  </thead>\n",
       "  <tbody>\n",
       "    <tr>\n",
       "      <th>0</th>\n",
       "      <td>Srinivasan</td>\n",
       "      <td>Comp. Sci.</td>\n",
       "      <td>Taylor</td>\n",
       "    </tr>\n",
       "    <tr>\n",
       "      <th>1</th>\n",
       "      <td>Wu</td>\n",
       "      <td>Finance</td>\n",
       "      <td>Painter</td>\n",
       "    </tr>\n",
       "    <tr>\n",
       "      <th>2</th>\n",
       "      <td>Mozart</td>\n",
       "      <td>Music</td>\n",
       "      <td>Packard</td>\n",
       "    </tr>\n",
       "    <tr>\n",
       "      <th>3</th>\n",
       "      <td>Einstein</td>\n",
       "      <td>Physics</td>\n",
       "      <td>Watson</td>\n",
       "    </tr>\n",
       "    <tr>\n",
       "      <th>4</th>\n",
       "      <td>El Said</td>\n",
       "      <td>History</td>\n",
       "      <td>Painter</td>\n",
       "    </tr>\n",
       "    <tr>\n",
       "      <th>5</th>\n",
       "      <td>Gold</td>\n",
       "      <td>Physics</td>\n",
       "      <td>Watson</td>\n",
       "    </tr>\n",
       "    <tr>\n",
       "      <th>6</th>\n",
       "      <td>Katz</td>\n",
       "      <td>Comp. Sci.</td>\n",
       "      <td>Taylor</td>\n",
       "    </tr>\n",
       "    <tr>\n",
       "      <th>7</th>\n",
       "      <td>Califieri</td>\n",
       "      <td>History</td>\n",
       "      <td>Painter</td>\n",
       "    </tr>\n",
       "    <tr>\n",
       "      <th>8</th>\n",
       "      <td>Singh</td>\n",
       "      <td>Finance</td>\n",
       "      <td>Painter</td>\n",
       "    </tr>\n",
       "    <tr>\n",
       "      <th>9</th>\n",
       "      <td>Crick</td>\n",
       "      <td>Biology</td>\n",
       "      <td>Watson</td>\n",
       "    </tr>\n",
       "    <tr>\n",
       "      <th>10</th>\n",
       "      <td>Brandt</td>\n",
       "      <td>Comp. Sci.</td>\n",
       "      <td>Taylor</td>\n",
       "    </tr>\n",
       "    <tr>\n",
       "      <th>11</th>\n",
       "      <td>Kim</td>\n",
       "      <td>Elec. Eng.</td>\n",
       "      <td>Taylor</td>\n",
       "    </tr>\n",
       "  </tbody>\n",
       "</table>\n",
       "</div>"
      ],
      "text/plain": [
       "          name   dept_name building\n",
       "0   Srinivasan  Comp. Sci.   Taylor\n",
       "1           Wu     Finance  Painter\n",
       "2       Mozart       Music  Packard\n",
       "3     Einstein     Physics   Watson\n",
       "4      El Said     History  Painter\n",
       "5         Gold     Physics   Watson\n",
       "6         Katz  Comp. Sci.   Taylor\n",
       "7    Califieri     History  Painter\n",
       "8        Singh     Finance  Painter\n",
       "9        Crick     Biology   Watson\n",
       "10      Brandt  Comp. Sci.   Taylor\n",
       "11         Kim  Elec. Eng.   Taylor"
      ]
     },
     "execution_count": 80,
     "metadata": {},
     "output_type": "execute_result"
    }
   ],
   "source": [
    "%%sql \n",
    "select name, instructor.dept_name, building\n",
    "from instructor natural join department;"
   ]
  },
  {
   "cell_type": "markdown",
   "metadata": {},
   "source": [
    "On the other hand, just doing the following (i.e., just the Cartesian Product) will lead to a large number of tuples, most of which are not meaningful."
   ]
  },
  {
   "cell_type": "code",
   "execution_count": 81,
   "metadata": {
    "collapsed": false
   },
   "outputs": [
    {
     "data": {
      "text/html": [
       "<div>\n",
       "<table border=\"1\" class=\"dataframe\">\n",
       "  <thead>\n",
       "    <tr style=\"text-align: right;\">\n",
       "      <th></th>\n",
       "      <th>name</th>\n",
       "      <th>dept_name</th>\n",
       "      <th>building</th>\n",
       "    </tr>\n",
       "  </thead>\n",
       "  <tbody>\n",
       "    <tr>\n",
       "      <th>0</th>\n",
       "      <td>Srinivasan</td>\n",
       "      <td>Comp. Sci.</td>\n",
       "      <td>Watson</td>\n",
       "    </tr>\n",
       "    <tr>\n",
       "      <th>1</th>\n",
       "      <td>Wu</td>\n",
       "      <td>Finance</td>\n",
       "      <td>Watson</td>\n",
       "    </tr>\n",
       "    <tr>\n",
       "      <th>2</th>\n",
       "      <td>Mozart</td>\n",
       "      <td>Music</td>\n",
       "      <td>Watson</td>\n",
       "    </tr>\n",
       "    <tr>\n",
       "      <th>3</th>\n",
       "      <td>Einstein</td>\n",
       "      <td>Physics</td>\n",
       "      <td>Watson</td>\n",
       "    </tr>\n",
       "    <tr>\n",
       "      <th>4</th>\n",
       "      <td>El Said</td>\n",
       "      <td>History</td>\n",
       "      <td>Watson</td>\n",
       "    </tr>\n",
       "    <tr>\n",
       "      <th>5</th>\n",
       "      <td>Gold</td>\n",
       "      <td>Physics</td>\n",
       "      <td>Watson</td>\n",
       "    </tr>\n",
       "    <tr>\n",
       "      <th>6</th>\n",
       "      <td>Katz</td>\n",
       "      <td>Comp. Sci.</td>\n",
       "      <td>Watson</td>\n",
       "    </tr>\n",
       "    <tr>\n",
       "      <th>7</th>\n",
       "      <td>Califieri</td>\n",
       "      <td>History</td>\n",
       "      <td>Watson</td>\n",
       "    </tr>\n",
       "    <tr>\n",
       "      <th>8</th>\n",
       "      <td>Singh</td>\n",
       "      <td>Finance</td>\n",
       "      <td>Watson</td>\n",
       "    </tr>\n",
       "    <tr>\n",
       "      <th>9</th>\n",
       "      <td>Crick</td>\n",
       "      <td>Biology</td>\n",
       "      <td>Watson</td>\n",
       "    </tr>\n",
       "    <tr>\n",
       "      <th>10</th>\n",
       "      <td>Brandt</td>\n",
       "      <td>Comp. Sci.</td>\n",
       "      <td>Watson</td>\n",
       "    </tr>\n",
       "    <tr>\n",
       "      <th>11</th>\n",
       "      <td>Kim</td>\n",
       "      <td>Elec. Eng.</td>\n",
       "      <td>Watson</td>\n",
       "    </tr>\n",
       "    <tr>\n",
       "      <th>12</th>\n",
       "      <td>Srinivasan</td>\n",
       "      <td>Comp. Sci.</td>\n",
       "      <td>Taylor</td>\n",
       "    </tr>\n",
       "    <tr>\n",
       "      <th>13</th>\n",
       "      <td>Wu</td>\n",
       "      <td>Finance</td>\n",
       "      <td>Taylor</td>\n",
       "    </tr>\n",
       "    <tr>\n",
       "      <th>14</th>\n",
       "      <td>Mozart</td>\n",
       "      <td>Music</td>\n",
       "      <td>Taylor</td>\n",
       "    </tr>\n",
       "    <tr>\n",
       "      <th>15</th>\n",
       "      <td>Einstein</td>\n",
       "      <td>Physics</td>\n",
       "      <td>Taylor</td>\n",
       "    </tr>\n",
       "    <tr>\n",
       "      <th>16</th>\n",
       "      <td>El Said</td>\n",
       "      <td>History</td>\n",
       "      <td>Taylor</td>\n",
       "    </tr>\n",
       "    <tr>\n",
       "      <th>17</th>\n",
       "      <td>Gold</td>\n",
       "      <td>Physics</td>\n",
       "      <td>Taylor</td>\n",
       "    </tr>\n",
       "    <tr>\n",
       "      <th>18</th>\n",
       "      <td>Katz</td>\n",
       "      <td>Comp. Sci.</td>\n",
       "      <td>Taylor</td>\n",
       "    </tr>\n",
       "    <tr>\n",
       "      <th>19</th>\n",
       "      <td>Califieri</td>\n",
       "      <td>History</td>\n",
       "      <td>Taylor</td>\n",
       "    </tr>\n",
       "    <tr>\n",
       "      <th>20</th>\n",
       "      <td>Singh</td>\n",
       "      <td>Finance</td>\n",
       "      <td>Taylor</td>\n",
       "    </tr>\n",
       "    <tr>\n",
       "      <th>21</th>\n",
       "      <td>Crick</td>\n",
       "      <td>Biology</td>\n",
       "      <td>Taylor</td>\n",
       "    </tr>\n",
       "    <tr>\n",
       "      <th>22</th>\n",
       "      <td>Brandt</td>\n",
       "      <td>Comp. Sci.</td>\n",
       "      <td>Taylor</td>\n",
       "    </tr>\n",
       "    <tr>\n",
       "      <th>23</th>\n",
       "      <td>Kim</td>\n",
       "      <td>Elec. Eng.</td>\n",
       "      <td>Taylor</td>\n",
       "    </tr>\n",
       "    <tr>\n",
       "      <th>24</th>\n",
       "      <td>Srinivasan</td>\n",
       "      <td>Comp. Sci.</td>\n",
       "      <td>Taylor</td>\n",
       "    </tr>\n",
       "    <tr>\n",
       "      <th>25</th>\n",
       "      <td>Wu</td>\n",
       "      <td>Finance</td>\n",
       "      <td>Taylor</td>\n",
       "    </tr>\n",
       "    <tr>\n",
       "      <th>26</th>\n",
       "      <td>Mozart</td>\n",
       "      <td>Music</td>\n",
       "      <td>Taylor</td>\n",
       "    </tr>\n",
       "    <tr>\n",
       "      <th>27</th>\n",
       "      <td>Einstein</td>\n",
       "      <td>Physics</td>\n",
       "      <td>Taylor</td>\n",
       "    </tr>\n",
       "    <tr>\n",
       "      <th>28</th>\n",
       "      <td>El Said</td>\n",
       "      <td>History</td>\n",
       "      <td>Taylor</td>\n",
       "    </tr>\n",
       "    <tr>\n",
       "      <th>29</th>\n",
       "      <td>Gold</td>\n",
       "      <td>Physics</td>\n",
       "      <td>Taylor</td>\n",
       "    </tr>\n",
       "    <tr>\n",
       "      <th>...</th>\n",
       "      <td>...</td>\n",
       "      <td>...</td>\n",
       "      <td>...</td>\n",
       "    </tr>\n",
       "    <tr>\n",
       "      <th>54</th>\n",
       "      <td>Katz</td>\n",
       "      <td>Comp. Sci.</td>\n",
       "      <td>Painter</td>\n",
       "    </tr>\n",
       "    <tr>\n",
       "      <th>55</th>\n",
       "      <td>Califieri</td>\n",
       "      <td>History</td>\n",
       "      <td>Painter</td>\n",
       "    </tr>\n",
       "    <tr>\n",
       "      <th>56</th>\n",
       "      <td>Singh</td>\n",
       "      <td>Finance</td>\n",
       "      <td>Painter</td>\n",
       "    </tr>\n",
       "    <tr>\n",
       "      <th>57</th>\n",
       "      <td>Crick</td>\n",
       "      <td>Biology</td>\n",
       "      <td>Painter</td>\n",
       "    </tr>\n",
       "    <tr>\n",
       "      <th>58</th>\n",
       "      <td>Brandt</td>\n",
       "      <td>Comp. Sci.</td>\n",
       "      <td>Painter</td>\n",
       "    </tr>\n",
       "    <tr>\n",
       "      <th>59</th>\n",
       "      <td>Kim</td>\n",
       "      <td>Elec. Eng.</td>\n",
       "      <td>Painter</td>\n",
       "    </tr>\n",
       "    <tr>\n",
       "      <th>60</th>\n",
       "      <td>Srinivasan</td>\n",
       "      <td>Comp. Sci.</td>\n",
       "      <td>Packard</td>\n",
       "    </tr>\n",
       "    <tr>\n",
       "      <th>61</th>\n",
       "      <td>Wu</td>\n",
       "      <td>Finance</td>\n",
       "      <td>Packard</td>\n",
       "    </tr>\n",
       "    <tr>\n",
       "      <th>62</th>\n",
       "      <td>Mozart</td>\n",
       "      <td>Music</td>\n",
       "      <td>Packard</td>\n",
       "    </tr>\n",
       "    <tr>\n",
       "      <th>63</th>\n",
       "      <td>Einstein</td>\n",
       "      <td>Physics</td>\n",
       "      <td>Packard</td>\n",
       "    </tr>\n",
       "    <tr>\n",
       "      <th>64</th>\n",
       "      <td>El Said</td>\n",
       "      <td>History</td>\n",
       "      <td>Packard</td>\n",
       "    </tr>\n",
       "    <tr>\n",
       "      <th>65</th>\n",
       "      <td>Gold</td>\n",
       "      <td>Physics</td>\n",
       "      <td>Packard</td>\n",
       "    </tr>\n",
       "    <tr>\n",
       "      <th>66</th>\n",
       "      <td>Katz</td>\n",
       "      <td>Comp. Sci.</td>\n",
       "      <td>Packard</td>\n",
       "    </tr>\n",
       "    <tr>\n",
       "      <th>67</th>\n",
       "      <td>Califieri</td>\n",
       "      <td>History</td>\n",
       "      <td>Packard</td>\n",
       "    </tr>\n",
       "    <tr>\n",
       "      <th>68</th>\n",
       "      <td>Singh</td>\n",
       "      <td>Finance</td>\n",
       "      <td>Packard</td>\n",
       "    </tr>\n",
       "    <tr>\n",
       "      <th>69</th>\n",
       "      <td>Crick</td>\n",
       "      <td>Biology</td>\n",
       "      <td>Packard</td>\n",
       "    </tr>\n",
       "    <tr>\n",
       "      <th>70</th>\n",
       "      <td>Brandt</td>\n",
       "      <td>Comp. Sci.</td>\n",
       "      <td>Packard</td>\n",
       "    </tr>\n",
       "    <tr>\n",
       "      <th>71</th>\n",
       "      <td>Kim</td>\n",
       "      <td>Elec. Eng.</td>\n",
       "      <td>Packard</td>\n",
       "    </tr>\n",
       "    <tr>\n",
       "      <th>72</th>\n",
       "      <td>Srinivasan</td>\n",
       "      <td>Comp. Sci.</td>\n",
       "      <td>Watson</td>\n",
       "    </tr>\n",
       "    <tr>\n",
       "      <th>73</th>\n",
       "      <td>Wu</td>\n",
       "      <td>Finance</td>\n",
       "      <td>Watson</td>\n",
       "    </tr>\n",
       "    <tr>\n",
       "      <th>74</th>\n",
       "      <td>Mozart</td>\n",
       "      <td>Music</td>\n",
       "      <td>Watson</td>\n",
       "    </tr>\n",
       "    <tr>\n",
       "      <th>75</th>\n",
       "      <td>Einstein</td>\n",
       "      <td>Physics</td>\n",
       "      <td>Watson</td>\n",
       "    </tr>\n",
       "    <tr>\n",
       "      <th>76</th>\n",
       "      <td>El Said</td>\n",
       "      <td>History</td>\n",
       "      <td>Watson</td>\n",
       "    </tr>\n",
       "    <tr>\n",
       "      <th>77</th>\n",
       "      <td>Gold</td>\n",
       "      <td>Physics</td>\n",
       "      <td>Watson</td>\n",
       "    </tr>\n",
       "    <tr>\n",
       "      <th>78</th>\n",
       "      <td>Katz</td>\n",
       "      <td>Comp. Sci.</td>\n",
       "      <td>Watson</td>\n",
       "    </tr>\n",
       "    <tr>\n",
       "      <th>79</th>\n",
       "      <td>Califieri</td>\n",
       "      <td>History</td>\n",
       "      <td>Watson</td>\n",
       "    </tr>\n",
       "    <tr>\n",
       "      <th>80</th>\n",
       "      <td>Singh</td>\n",
       "      <td>Finance</td>\n",
       "      <td>Watson</td>\n",
       "    </tr>\n",
       "    <tr>\n",
       "      <th>81</th>\n",
       "      <td>Crick</td>\n",
       "      <td>Biology</td>\n",
       "      <td>Watson</td>\n",
       "    </tr>\n",
       "    <tr>\n",
       "      <th>82</th>\n",
       "      <td>Brandt</td>\n",
       "      <td>Comp. Sci.</td>\n",
       "      <td>Watson</td>\n",
       "    </tr>\n",
       "    <tr>\n",
       "      <th>83</th>\n",
       "      <td>Kim</td>\n",
       "      <td>Elec. Eng.</td>\n",
       "      <td>Watson</td>\n",
       "    </tr>\n",
       "  </tbody>\n",
       "</table>\n",
       "<p>84 rows × 3 columns</p>\n",
       "</div>"
      ],
      "text/plain": [
       "          name   dept_name building\n",
       "0   Srinivasan  Comp. Sci.   Watson\n",
       "1           Wu     Finance   Watson\n",
       "2       Mozart       Music   Watson\n",
       "3     Einstein     Physics   Watson\n",
       "4      El Said     History   Watson\n",
       "5         Gold     Physics   Watson\n",
       "6         Katz  Comp. Sci.   Watson\n",
       "7    Califieri     History   Watson\n",
       "8        Singh     Finance   Watson\n",
       "9        Crick     Biology   Watson\n",
       "10      Brandt  Comp. Sci.   Watson\n",
       "11         Kim  Elec. Eng.   Watson\n",
       "12  Srinivasan  Comp. Sci.   Taylor\n",
       "13          Wu     Finance   Taylor\n",
       "14      Mozart       Music   Taylor\n",
       "15    Einstein     Physics   Taylor\n",
       "16     El Said     History   Taylor\n",
       "17        Gold     Physics   Taylor\n",
       "18        Katz  Comp. Sci.   Taylor\n",
       "19   Califieri     History   Taylor\n",
       "20       Singh     Finance   Taylor\n",
       "21       Crick     Biology   Taylor\n",
       "22      Brandt  Comp. Sci.   Taylor\n",
       "23         Kim  Elec. Eng.   Taylor\n",
       "24  Srinivasan  Comp. Sci.   Taylor\n",
       "25          Wu     Finance   Taylor\n",
       "26      Mozart       Music   Taylor\n",
       "27    Einstein     Physics   Taylor\n",
       "28     El Said     History   Taylor\n",
       "29        Gold     Physics   Taylor\n",
       "..         ...         ...      ...\n",
       "54        Katz  Comp. Sci.  Painter\n",
       "55   Califieri     History  Painter\n",
       "56       Singh     Finance  Painter\n",
       "57       Crick     Biology  Painter\n",
       "58      Brandt  Comp. Sci.  Painter\n",
       "59         Kim  Elec. Eng.  Painter\n",
       "60  Srinivasan  Comp. Sci.  Packard\n",
       "61          Wu     Finance  Packard\n",
       "62      Mozart       Music  Packard\n",
       "63    Einstein     Physics  Packard\n",
       "64     El Said     History  Packard\n",
       "65        Gold     Physics  Packard\n",
       "66        Katz  Comp. Sci.  Packard\n",
       "67   Califieri     History  Packard\n",
       "68       Singh     Finance  Packard\n",
       "69       Crick     Biology  Packard\n",
       "70      Brandt  Comp. Sci.  Packard\n",
       "71         Kim  Elec. Eng.  Packard\n",
       "72  Srinivasan  Comp. Sci.   Watson\n",
       "73          Wu     Finance   Watson\n",
       "74      Mozart       Music   Watson\n",
       "75    Einstein     Physics   Watson\n",
       "76     El Said     History   Watson\n",
       "77        Gold     Physics   Watson\n",
       "78        Katz  Comp. Sci.   Watson\n",
       "79   Califieri     History   Watson\n",
       "80       Singh     Finance   Watson\n",
       "81       Crick     Biology   Watson\n",
       "82      Brandt  Comp. Sci.   Watson\n",
       "83         Kim  Elec. Eng.   Watson\n",
       "\n",
       "[84 rows x 3 columns]"
      ]
     },
     "execution_count": 81,
     "metadata": {},
     "output_type": "execute_result"
    }
   ],
   "source": [
    "%%sql\n",
    "select name, instructor.dept_name, building\n",
    "from instructor, department;"
   ]
  },
  {
   "cell_type": "markdown",
   "metadata": {},
   "source": [
    "### Renaming using \"as\"\n",
    "**as** can be used to rename tables and simplify queries:"
   ]
  },
  {
   "cell_type": "code",
   "execution_count": 82,
   "metadata": {
    "collapsed": false
   },
   "outputs": [
    {
     "data": {
      "text/html": [
       "<div>\n",
       "<table border=\"1\" class=\"dataframe\">\n",
       "  <thead>\n",
       "    <tr style=\"text-align: right;\">\n",
       "      <th></th>\n",
       "      <th>name</th>\n",
       "    </tr>\n",
       "  </thead>\n",
       "  <tbody>\n",
       "    <tr>\n",
       "      <th>0</th>\n",
       "      <td>Wu</td>\n",
       "    </tr>\n",
       "    <tr>\n",
       "      <th>1</th>\n",
       "      <td>Gold</td>\n",
       "    </tr>\n",
       "    <tr>\n",
       "      <th>2</th>\n",
       "      <td>Katz</td>\n",
       "    </tr>\n",
       "    <tr>\n",
       "      <th>3</th>\n",
       "      <td>Singh</td>\n",
       "    </tr>\n",
       "    <tr>\n",
       "      <th>4</th>\n",
       "      <td>Brandt</td>\n",
       "    </tr>\n",
       "    <tr>\n",
       "      <th>5</th>\n",
       "      <td>Kim</td>\n",
       "    </tr>\n",
       "    <tr>\n",
       "      <th>6</th>\n",
       "      <td>Einstein</td>\n",
       "    </tr>\n",
       "  </tbody>\n",
       "</table>\n",
       "</div>"
      ],
      "text/plain": [
       "       name\n",
       "0        Wu\n",
       "1      Gold\n",
       "2      Katz\n",
       "3     Singh\n",
       "4    Brandt\n",
       "5       Kim\n",
       "6  Einstein"
      ]
     },
     "execution_count": 82,
     "metadata": {},
     "output_type": "execute_result"
    }
   ],
   "source": [
    "%%sql\n",
    "select distinct T.name\n",
    "from instructor as T, instructor as S  \n",
    "where T.salary > S.salary and S.dept_name = 'Biology';"
   ]
  },
  {
   "cell_type": "markdown",
   "metadata": {
    "collapsed": true
   },
   "source": [
    "**Self-joins** (where two of the relations in the from clause are the same) are impossible without using `as`. The following query associates a course with the pre-requisite of one of its pre-requisites. There is no way to disambiguate the columns without some form of renaming."
   ]
  },
  {
   "cell_type": "code",
   "execution_count": 83,
   "metadata": {
    "collapsed": false
   },
   "outputs": [
    {
     "data": {
      "text/html": [
       "<div>\n",
       "<table border=\"1\" class=\"dataframe\">\n",
       "  <thead>\n",
       "    <tr style=\"text-align: right;\">\n",
       "      <th></th>\n",
       "      <th>course_id</th>\n",
       "      <th>pre_prereq_id</th>\n",
       "    </tr>\n",
       "  </thead>\n",
       "  <tbody>\n",
       "  </tbody>\n",
       "</table>\n",
       "</div>"
      ],
      "text/plain": [
       "Empty DataFrame\n",
       "Columns: [course_id, pre_prereq_id]\n",
       "Index: []"
      ]
     },
     "execution_count": 83,
     "metadata": {},
     "output_type": "execute_result"
    }
   ],
   "source": [
    "%%sql\n",
    "select p1.course_id, p2.prereq_id as pre_prereq_id\n",
    "from prereq p1, prereq p2\n",
    "where p1.prereq_id = p2.course_id;"
   ]
  },
  {
   "cell_type": "markdown",
   "metadata": {},
   "source": [
    "The small University database doesn't have any chains of this kind. You can try adding a new tuple using: \n",
    "\n",
    "```insert into prereq values ('CS-101', 'PHY-101');```\n",
    "\n",
    "This won't work here because the database is mounted in read-only mode, but you should try this your own database."
   ]
  },
  {
   "cell_type": "markdown",
   "metadata": {},
   "source": [
    "### Set Operations\n",
    "*Union* operation can be used to combine information from two tables (from Section 3.5.1)."
   ]
  },
  {
   "cell_type": "code",
   "execution_count": 84,
   "metadata": {
    "collapsed": false
   },
   "outputs": [
    {
     "data": {
      "text/html": [
       "<div>\n",
       "<table border=\"1\" class=\"dataframe\">\n",
       "  <thead>\n",
       "    <tr style=\"text-align: right;\">\n",
       "      <th></th>\n",
       "      <th>course_id</th>\n",
       "    </tr>\n",
       "  </thead>\n",
       "  <tbody>\n",
       "    <tr>\n",
       "      <th>0</th>\n",
       "      <td>CS-101</td>\n",
       "    </tr>\n",
       "    <tr>\n",
       "      <th>1</th>\n",
       "      <td>CS-315</td>\n",
       "    </tr>\n",
       "    <tr>\n",
       "      <th>2</th>\n",
       "      <td>CS-319</td>\n",
       "    </tr>\n",
       "    <tr>\n",
       "      <th>3</th>\n",
       "      <td>CS-347</td>\n",
       "    </tr>\n",
       "    <tr>\n",
       "      <th>4</th>\n",
       "      <td>FIN-201</td>\n",
       "    </tr>\n",
       "    <tr>\n",
       "      <th>5</th>\n",
       "      <td>HIS-351</td>\n",
       "    </tr>\n",
       "    <tr>\n",
       "      <th>6</th>\n",
       "      <td>MU-199</td>\n",
       "    </tr>\n",
       "    <tr>\n",
       "      <th>7</th>\n",
       "      <td>PHY-101</td>\n",
       "    </tr>\n",
       "  </tbody>\n",
       "</table>\n",
       "</div>"
      ],
      "text/plain": [
       "  course_id\n",
       "0    CS-101\n",
       "1    CS-315\n",
       "2    CS-319\n",
       "3    CS-347\n",
       "4   FIN-201\n",
       "5   HIS-351\n",
       "6    MU-199\n",
       "7   PHY-101"
      ]
     },
     "execution_count": 84,
     "metadata": {},
     "output_type": "execute_result"
    }
   ],
   "source": [
    "%%sql\n",
    "select course_id\n",
    "from section\n",
    "where semester = 'Fall' and year= 2009\n",
    "union \n",
    "select course_id\n",
    "from section\n",
    "where semester = 'Spring' and year= 2010;"
   ]
  },
  {
   "cell_type": "markdown",
   "metadata": {},
   "source": [
    "### Aggregation with Grouping (Section 7.4.2)"
   ]
  },
  {
   "cell_type": "code",
   "execution_count": 85,
   "metadata": {
    "collapsed": false
   },
   "outputs": [
    {
     "data": {
      "text/html": [
       "<div>\n",
       "<table border=\"1\" class=\"dataframe\">\n",
       "  <thead>\n",
       "    <tr style=\"text-align: right;\">\n",
       "      <th></th>\n",
       "      <th>dept_name</th>\n",
       "      <th>avg_salary</th>\n",
       "    </tr>\n",
       "  </thead>\n",
       "  <tbody>\n",
       "    <tr>\n",
       "      <th>0</th>\n",
       "      <td>Comp. Sci.</td>\n",
       "      <td>77333.333333333333</td>\n",
       "    </tr>\n",
       "    <tr>\n",
       "      <th>1</th>\n",
       "      <td>Elec. Eng.</td>\n",
       "      <td>80000.000000000000</td>\n",
       "    </tr>\n",
       "    <tr>\n",
       "      <th>2</th>\n",
       "      <td>History</td>\n",
       "      <td>61000.000000000000</td>\n",
       "    </tr>\n",
       "    <tr>\n",
       "      <th>3</th>\n",
       "      <td>Music</td>\n",
       "      <td>40000.000000000000</td>\n",
       "    </tr>\n",
       "    <tr>\n",
       "      <th>4</th>\n",
       "      <td>Finance</td>\n",
       "      <td>85000.000000000000</td>\n",
       "    </tr>\n",
       "    <tr>\n",
       "      <th>5</th>\n",
       "      <td>Physics</td>\n",
       "      <td>91000.000000000000</td>\n",
       "    </tr>\n",
       "    <tr>\n",
       "      <th>6</th>\n",
       "      <td>Biology</td>\n",
       "      <td>72000.000000000000</td>\n",
       "    </tr>\n",
       "  </tbody>\n",
       "</table>\n",
       "</div>"
      ],
      "text/plain": [
       "    dept_name          avg_salary\n",
       "0  Comp. Sci.  77333.333333333333\n",
       "1  Elec. Eng.  80000.000000000000\n",
       "2     History  61000.000000000000\n",
       "3       Music  40000.000000000000\n",
       "4     Finance  85000.000000000000\n",
       "5     Physics  91000.000000000000\n",
       "6     Biology  72000.000000000000"
      ]
     },
     "execution_count": 85,
     "metadata": {},
     "output_type": "execute_result"
    }
   ],
   "source": [
    "%%sql\n",
    "select dept_name, avg(salary) as avg_salary\n",
    "from instructor\n",
    "group by dept_name;"
   ]
  },
  {
   "cell_type": "markdown",
   "metadata": {},
   "source": [
    "You can use `having` to filter out groups. The following query only returns the average salary for departments with more than 2 instructors."
   ]
  },
  {
   "cell_type": "code",
   "execution_count": 86,
   "metadata": {
    "collapsed": false
   },
   "outputs": [
    {
     "data": {
      "text/html": [
       "<div>\n",
       "<table border=\"1\" class=\"dataframe\">\n",
       "  <thead>\n",
       "    <tr style=\"text-align: right;\">\n",
       "      <th></th>\n",
       "      <th>dept_name</th>\n",
       "      <th>avg_salary</th>\n",
       "    </tr>\n",
       "  </thead>\n",
       "  <tbody>\n",
       "    <tr>\n",
       "      <th>0</th>\n",
       "      <td>Comp. Sci.</td>\n",
       "      <td>77333.333333333333</td>\n",
       "    </tr>\n",
       "  </tbody>\n",
       "</table>\n",
       "</div>"
      ],
      "text/plain": [
       "    dept_name          avg_salary\n",
       "0  Comp. Sci.  77333.333333333333"
      ]
     },
     "execution_count": 86,
     "metadata": {},
     "output_type": "execute_result"
    }
   ],
   "source": [
    "%%sql\n",
    "select dept_name, avg(salary) as avg_salary\n",
    "from instructor\n",
    "group by dept_name\n",
    "having count(*) > 2;"
   ]
  },
  {
   "cell_type": "markdown",
   "metadata": {},
   "source": [
    "### WITH\n",
    "In many cases you might find it easier to create temporary tables, especially for queries involving finding \"max\" or \"min\". This also allows you to break down the full query and makes it easier to debug. It is preferable to use the WITH construct for this purpose. The syntax and support differs across systems, but here is the link to PostgreSQL: http://www.postgresql.org/docs/9.0/static/queries-with.html\n",
    "\n",
    "These are also called Common Table Expressions (CTEs).\n",
    "\n",
    "The following query is from Section 3.8.6."
   ]
  },
  {
   "cell_type": "code",
   "execution_count": 87,
   "metadata": {
    "collapsed": false
   },
   "outputs": [
    {
     "data": {
      "text/html": [
       "<div>\n",
       "<table border=\"1\" class=\"dataframe\">\n",
       "  <thead>\n",
       "    <tr style=\"text-align: right;\">\n",
       "      <th></th>\n",
       "      <th>budget</th>\n",
       "    </tr>\n",
       "  </thead>\n",
       "  <tbody>\n",
       "    <tr>\n",
       "      <th>0</th>\n",
       "      <td>120000.00</td>\n",
       "    </tr>\n",
       "  </tbody>\n",
       "</table>\n",
       "</div>"
      ],
      "text/plain": [
       "      budget\n",
       "0  120000.00"
      ]
     },
     "execution_count": 87,
     "metadata": {},
     "output_type": "execute_result"
    }
   ],
   "source": [
    "%%sql\n",
    "with max_budget(value) as (\n",
    "select max(budget)\n",
    "from department\n",
    ")\n",
    "select budget\n",
    "from department, max_budget\n",
    "where department.budget = max_budget.value;"
   ]
  },
  {
   "cell_type": "markdown",
   "metadata": {},
   "source": [
    "### LIMIT\n",
    "PostgreSQL allows you to limit the number of results displayed which\n",
    "is useful for debugging etc. Here is an example."
   ]
  },
  {
   "cell_type": "code",
   "execution_count": 88,
   "metadata": {
    "collapsed": false
   },
   "outputs": [
    {
     "data": {
      "text/html": [
       "<div>\n",
       "<table border=\"1\" class=\"dataframe\">\n",
       "  <thead>\n",
       "    <tr style=\"text-align: right;\">\n",
       "      <th></th>\n",
       "      <th>id</th>\n",
       "      <th>name</th>\n",
       "      <th>dept_name</th>\n",
       "      <th>salary</th>\n",
       "    </tr>\n",
       "  </thead>\n",
       "  <tbody>\n",
       "    <tr>\n",
       "      <th>0</th>\n",
       "      <td>10101</td>\n",
       "      <td>Srinivasan</td>\n",
       "      <td>Comp. Sci.</td>\n",
       "      <td>65000.00</td>\n",
       "    </tr>\n",
       "    <tr>\n",
       "      <th>1</th>\n",
       "      <td>12121</td>\n",
       "      <td>Wu</td>\n",
       "      <td>Finance</td>\n",
       "      <td>90000.00</td>\n",
       "    </tr>\n",
       "  </tbody>\n",
       "</table>\n",
       "</div>"
      ],
      "text/plain": [
       "      id        name   dept_name    salary\n",
       "0  10101  Srinivasan  Comp. Sci.  65000.00\n",
       "1  12121          Wu     Finance  90000.00"
      ]
     },
     "execution_count": 88,
     "metadata": {},
     "output_type": "execute_result"
    }
   ],
   "source": [
    "%sql select * from instructor limit 2;"
   ]
  },
  {
   "cell_type": "markdown",
   "metadata": {},
   "source": [
    "### Try your own queries\n",
    "Feel free to use the cells below to write new queries. You can also just modify the above queries directly if you'd like."
   ]
  },
  {
   "cell_type": "code",
   "execution_count": null,
   "metadata": {
    "collapsed": true
   },
   "outputs": [],
   "source": []
  },
  {
   "cell_type": "code",
   "execution_count": null,
   "metadata": {
    "collapsed": true
   },
   "outputs": [],
   "source": []
  },
  {
   "cell_type": "code",
   "execution_count": null,
   "metadata": {
    "collapsed": true
   },
   "outputs": [],
   "source": []
  },
  {
   "cell_type": "code",
   "execution_count": null,
   "metadata": {
    "collapsed": true
   },
   "outputs": [],
   "source": []
  },
  {
   "cell_type": "code",
   "execution_count": null,
   "metadata": {
    "collapsed": true
   },
   "outputs": [],
   "source": []
  }
 ],
 "metadata": {
  "kernelspec": {
   "display_name": "Python 2",
   "language": "python",
   "name": "python2"
  },
  "language_info": {
   "codemirror_mode": {
    "name": "ipython",
    "version": 2
   },
   "file_extension": ".py",
   "mimetype": "text/x-python",
   "name": "python",
   "nbconvert_exporter": "python",
   "pygments_lexer": "ipython2",
   "version": "2.7.6"
  }
 },
 "nbformat": 4,
 "nbformat_minor": 1
}
